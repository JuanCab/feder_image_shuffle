{
 "metadata": {
  "name": ""
 },
 "nbformat": 3,
 "nbformat_minor": 0,
 "worksheets": [
  {
   "cells": [
    {
     "cell_type": "code",
     "collapsed": false,
     "input": [
      "from astropy.table import Table\n",
      "import numpy as np"
     ],
     "language": "python",
     "metadata": {},
     "outputs": [],
     "prompt_number": 54
    },
    {
     "cell_type": "code",
     "collapsed": false,
     "input": [
      "ls_output = Table.read('feder_directory_owners.csv', format='ascii')"
     ],
     "language": "python",
     "metadata": {},
     "outputs": [],
     "prompt_number": 55
    },
    {
     "cell_type": "markdown",
     "metadata": {},
     "source": [
      "## Make dictionary of ownerids/real names"
     ]
    },
    {
     "cell_type": "code",
     "collapsed": false,
     "input": [
      "print np.unique(ls_output['ownerid'])"
     ],
     "language": "python",
     "metadata": {},
     "outputs": [
      {
       "output_type": "stream",
       "stream": "stdout",
       "text": [
        "   ownerid    \n",
        "--------------\n",
        "aaron.peterson\n",
        " beau.scheving\n",
        "     johnsonho\n",
        " juan.cabanela\n",
        "       larsong\n",
        "  laura.herzog\n",
        " linda.winkler\n",
        "    matt.craig\n",
        "       shouvik\n",
        "    tyler.lane\n"
       ]
      }
     ],
     "prompt_number": 56
    },
    {
     "cell_type": "code",
     "collapsed": false,
     "input": [
      "names = {\n",
      "         'aaron.peterson': 'Aaron Peterson',\n",
      "         'beau.scheving': 'Beau Scheving',\n",
      "         'johnsonho': 'Hollee Johnson',\n",
      "         'juan.cabanela': 'Juan Cabanela',\n",
      "         'larsong': 'Greg Larson',\n",
      "         'laura.herzog': 'Laura Herzog',\n",
      "         'linda.winkler': 'Linda Winkler',\n",
      "         'matt.craig': 'Matt Craig',\n",
      "         'shouvik': 'Shouvik Bhattacharya',\n",
      "         'tyler.lane': 'Tyler Lane'\n",
      "         }"
     ],
     "language": "python",
     "metadata": {},
     "outputs": [],
     "prompt_number": 57
    },
    {
     "cell_type": "markdown",
     "metadata": {},
     "source": [
      "## Construct function to extract yyyy-mm-dd name from folder name"
     ]
    },
    {
     "cell_type": "code",
     "collapsed": false,
     "input": [
      "def obs_date(str):\n",
      "    import re\n",
      "    get_date = re.compile(r'.*\\/(\\d{4,4}-\\d\\d-\\d\\d).*')\n",
      "    match = get_date.search(str)\n",
      "    date = match\n",
      "    if date:\n",
      "        date = match.group(1)\n",
      "    return date"
     ],
     "language": "python",
     "metadata": {},
     "outputs": [],
     "prompt_number": 58
    },
    {
     "cell_type": "code",
     "collapsed": false,
     "input": [
      "obs_date('ast390/2011-08-24/M101')"
     ],
     "language": "python",
     "metadata": {},
     "outputs": [
      {
       "metadata": {},
       "output_type": "pyout",
       "prompt_number": 59,
       "text": [
        "'2011-08-24'"
       ]
      }
     ],
     "prompt_number": 59
    },
    {
     "cell_type": "markdown",
     "metadata": {},
     "source": [
      "## Make dictionary of nights/observers"
     ]
    },
    {
     "cell_type": "code",
     "collapsed": false,
     "input": [
      "observer = {}\n",
      "for row in ls_output:\n",
      "    \n",
      "    date = obs_date(row['name'])\n",
      "    name = names[row['ownerid']]\n",
      "    if not date:\n",
      "        continue\n",
      "    if date in observer:\n",
      "        # chack for inconsistency between folders on same date\n",
      "        if observer[date] != name:\n",
      "            print row\n",
      "            raise ValueError('Names do not match for {}'.format(date))\n",
      "    else:\n",
      "        observer[date] = name"
     ],
     "language": "python",
     "metadata": {},
     "outputs": [],
     "prompt_number": 60
    },
    {
     "cell_type": "code",
     "collapsed": false,
     "input": [
      "observer_table = Table(data=[observer.keys(), observer.values()], names=['night', 'observer'])"
     ],
     "language": "python",
     "metadata": {},
     "outputs": [],
     "prompt_number": 63
    },
    {
     "cell_type": "code",
     "collapsed": false,
     "input": [
      "observer_table.sort('night')\n",
      "observer_table"
     ],
     "language": "python",
     "metadata": {},
     "outputs": [
      {
       "html": [
        "<table><tr><th>night</th><th>observer</th></tr><tr><td>2011-02-09</td><td>Linda Winkler</td></tr><tr><td>2011-02-16</td><td>Linda Winkler</td></tr><tr><td>2011-02-27</td><td>Linda Winkler</td></tr><tr><td>2011-03-10</td><td>Matt Craig</td></tr><tr><td>2011-03-15</td><td>Linda Winkler</td></tr><tr><td>2011-03-25</td><td>Linda Winkler</td></tr><tr><td>2011-03-26</td><td>Matt Craig</td></tr><tr><td>2011-03-29</td><td>Linda Winkler</td></tr><tr><td>2011-04-04</td><td>Linda Winkler</td></tr><tr><td>2011-04-13</td><td>Linda Winkler</td></tr><tr><td>2011-04-28</td><td>Linda Winkler</td></tr><tr><td>...</td><td>...</td></tr><tr><td>2013-07-03</td><td>Matt Craig</td></tr><tr><td>2013-08-11</td><td>Matt Craig</td></tr><tr><td>2013-08-12</td><td>Matt Craig</td></tr><tr><td>2013-08-13</td><td>Matt Craig</td></tr><tr><td>2013-08-16</td><td>Matt Craig</td></tr><tr><td>2013-08-19</td><td>Matt Craig</td></tr><tr><td>2013-09-11</td><td>Matt Craig</td></tr><tr><td>2013-09-12</td><td>Matt Craig</td></tr><tr><td>2013-09-13</td><td>Matt Craig</td></tr><tr><td>2013-09-16</td><td>Matt Craig</td></tr><tr><td>2013-10-15</td><td>Matt Craig</td></tr></table>"
       ],
       "metadata": {},
       "output_type": "pyout",
       "prompt_number": 65,
       "text": [
        "<Table rows=105 names=('night','observer')>\n",
        "array([('2011-02-09', 'Linda Winkler'), ('2011-02-16', 'Linda Winkler'),\n",
        "       ('2011-02-27', 'Linda Winkler'), ('2011-03-10', 'Matt Craig'),\n",
        "       ('2011-03-15', 'Linda Winkler'), ('2011-03-25', 'Linda Winkler'),\n",
        "       ('2011-03-26', 'Matt Craig'), ('2011-03-29', 'Linda Winkler'),\n",
        "       ('2011-04-04', 'Linda Winkler'), ('2011-04-13', 'Linda Winkler'),\n",
        "       ('2011-04-28', 'Linda Winkler'), ('2011-05-02', 'Matt Craig'),\n",
        "       ('2011-06-29', 'Linda Winkler'), ('2011-07-05', 'Linda Winkler'),\n",
        "       ('2011-07-21', 'Shouvik Bhattacharya'),\n",
        "       ('2011-08-24', 'Matt Craig'), ('2011-08-26', 'Matt Craig'),\n",
        "       ('2011-08-28', 'Matt Craig'), ('2011-08-31', 'Matt Craig'),\n",
        "       ('2011-09-04', 'Shouvik Bhattacharya'),\n",
        "       ('2011-09-05', 'Matt Craig'), ('2011-09-06', 'Matt Craig'),\n",
        "       ('2011-09-07', 'Matt Craig'), ('2011-09-08', 'Juan Cabanela'),\n",
        "       ('2011-09-09', 'Shouvik Bhattacharya'),\n",
        "       ('2011-09-10', 'Matt Craig'), ('2011-09-11', 'Matt Craig'),\n",
        "       ('2011-09-14', 'Matt Craig'), ('2011-09-22', 'Matt Craig'),\n",
        "       ('2011-09-24', 'Matt Craig'),\n",
        "       ('2011-09-25', 'Shouvik Bhattacharya'),\n",
        "       ('2011-09-27', 'Matt Craig'), ('2011-09-30', 'Matt Craig'),\n",
        "       ('2011-10-02', 'Matt Craig'), ('2011-10-16', 'Matt Craig'),\n",
        "       ('2011-10-21', 'Matt Craig'),\n",
        "       ('2011-10-23', 'Shouvik Bhattacharya'),\n",
        "       ('2011-10-28', 'Aaron Peterson'), ('2011-11-02', 'Matt Craig'),\n",
        "       ('2011-11-08', 'Matt Craig'), ('2011-11-17', 'Matt Craig'),\n",
        "       ('2011-11-21', 'Matt Craig'), ('2011-11-22', 'Tyler Lane'),\n",
        "       ('2011-11-23', 'Matt Craig'), ('2011-11-28', 'Matt Craig'),\n",
        "       ('2011-12-01', 'Tyler Lane'), ('2011-12-05', 'Tyler Lane'),\n",
        "       ('2011-12-09', 'Matt Craig'), ('2011-12-19', 'Matt Craig'),\n",
        "       ('2012-01-23', 'Matt Craig'),\n",
        "       ('2012-01-24', 'Shouvik Bhattacharya'),\n",
        "       ('2012-01-26', 'Linda Winkler'),\n",
        "       ('2012-02-01', 'Shouvik Bhattacharya'),\n",
        "       ('2012-02-05', 'Matt Craig'), ('2012-02-07', 'Matt Craig'),\n",
        "       ('2012-02-08', 'Shouvik Bhattacharya'),\n",
        "       ('2012-02-10', 'Aaron Peterson'), ('2012-02-11', 'Linda Winkler'),\n",
        "       ('2012-02-12', 'Tyler Lane'), ('2012-02-19', 'Linda Winkler'),\n",
        "       ('2012-03-10', 'Matt Craig'), ('2012-03-12', 'Greg Larson'),\n",
        "       ('2012-03-21', 'Linda Winkler'), ('2012-04-03', 'Matt Craig'),\n",
        "       ('2012-04-04', 'Shouvik Bhattacharya'),\n",
        "       ('2012-04-09', 'Matt Craig'), ('2012-04-11', 'Matt Craig'),\n",
        "       ('2012-05-12', 'Linda Winkler'), ('2012-06-04', 'Matt Craig'),\n",
        "       ('2012-06-14', 'Matt Craig'), ('2012-06-21', 'Linda Winkler'),\n",
        "       ('2012-07-30', 'Matt Craig'), ('2012-08-10', 'Matt Craig'),\n",
        "       ('2012-08-16', 'Matt Craig'), ('2012-08-20', 'Matt Craig'),\n",
        "       ('2012-08-25', 'Matt Craig'), ('2012-09-22', 'Juan Cabanela'),\n",
        "       ('2012-09-23', 'Hollee Johnson'), ('2012-09-26', 'Hollee Johnson'),\n",
        "       ('2012-09-29', 'Matt Craig'), ('2012-10-06', 'Matt Craig'),\n",
        "       ('2012-11-15', 'Matt Craig'), ('2012-12-09', 'Matt Craig'),\n",
        "       ('2013-01-09', 'Matt Craig'), ('2013-01-27', 'Laura Herzog'),\n",
        "       ('2013-03-10', 'Matt Craig'), ('2013-04-13', 'Matt Craig'),\n",
        "       ('2013-04-19', 'Matt Craig'), ('2013-04-26', 'Aaron Peterson'),\n",
        "       ('2013-04-28', 'Matt Craig'), ('2013-05-02', 'Laura Herzog'),\n",
        "       ('2013-05-06', 'Beau Scheving'), ('2013-05-09', 'Matt Craig'),\n",
        "       ('2013-05-23', 'Matt Craig'), ('2013-07-03', 'Matt Craig'),\n",
        "       ('2013-08-11', 'Matt Craig'), ('2013-08-12', 'Matt Craig'),\n",
        "       ('2013-08-13', 'Matt Craig'), ('2013-08-16', 'Matt Craig'),\n",
        "       ('2013-08-19', 'Matt Craig'), ('2013-09-11', 'Matt Craig'),\n",
        "       ('2013-09-12', 'Matt Craig'), ('2013-09-13', 'Matt Craig'),\n",
        "       ('2013-09-16', 'Matt Craig'), ('2013-10-15', 'Matt Craig')], \n",
        "      dtype=[('night', 'S10'), ('observer', 'S20')])"
       ]
      }
     ],
     "prompt_number": 65
    },
    {
     "cell_type": "code",
     "collapsed": false,
     "input": [
      "observer_table.write('observer_table.csv', format='ascii')"
     ],
     "language": "python",
     "metadata": {},
     "outputs": [],
     "prompt_number": 67
    },
    {
     "cell_type": "code",
     "collapsed": false,
     "input": [],
     "language": "python",
     "metadata": {},
     "outputs": []
    }
   ],
   "metadata": {}
  }
 ]
}