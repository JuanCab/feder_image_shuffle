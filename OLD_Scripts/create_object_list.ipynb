{
 "metadata": {
  "name": ""
 },
 "nbformat": 3,
 "nbformat_minor": 0,
 "worksheets": [
  {
   "cells": [
    {
     "cell_type": "code",
     "collapsed": false,
     "input": [
      "from astropy.table import Table\n",
      "from astropy.coordinates import FK5Coordinates, name_resolve\n",
      "from astropy import units as u\n",
      "import build_overall_manifest as b\n",
      "%pylab inline"
     ],
     "language": "python",
     "metadata": {},
     "outputs": [
      {
       "output_type": "stream",
       "stream": "stdout",
       "text": [
        "Populating the interactive namespace from numpy and matplotlib\n"
       ]
      }
     ],
     "prompt_number": 53
    },
    {
     "cell_type": "code",
     "collapsed": false,
     "input": [
      "import logging"
     ],
     "language": "python",
     "metadata": {},
     "outputs": [],
     "prompt_number": 2
    },
    {
     "cell_type": "code",
     "collapsed": false,
     "input": [
      "logging.basicConfig(level=logging.DEBUG)"
     ],
     "language": "python",
     "metadata": {},
     "outputs": [],
     "prompt_number": 3
    },
    {
     "cell_type": "code",
     "collapsed": false,
     "input": [
      "reload(b)\n",
      "full_table = b.InfoTree('initial_triage/')"
     ],
     "language": "python",
     "metadata": {},
     "outputs": [
      {
       "output_type": "stream",
       "stream": "stderr",
       "text": [
        "DEBUG:build_overall_manifest:Working on directory initial_triage/2011-02-09\n"
       ]
      },
      {
       "output_type": "stream",
       "stream": "stderr",
       "text": [
        "DEBUG:build_overall_manifest:No tables found in directory initial_triage/2011-02-09\n"
       ]
      },
      {
       "output_type": "stream",
       "stream": "stderr",
       "text": [
        "DEBUG:build_overall_manifest:Working on directory initial_triage/2011-02-16\n"
       ]
      },
      {
       "output_type": "stream",
       "stream": "stderr",
       "text": [
        "DEBUG:build_overall_manifest:No tables found in directory initial_triage/2011-02-16\n"
       ]
      },
      {
       "output_type": "stream",
       "stream": "stderr",
       "text": [
        "DEBUG:build_overall_manifest:Working on directory initial_triage/2011-02-27\n"
       ]
      },
      {
       "output_type": "stream",
       "stream": "stderr",
       "text": [
        "DEBUG:build_overall_manifest:No tables found in directory initial_triage/2011-02-27\n"
       ]
      },
      {
       "output_type": "stream",
       "stream": "stderr",
       "text": [
        "DEBUG:build_overall_manifest:Working on directory initial_triage/2011-03-10\n"
       ]
      },
      {
       "output_type": "stream",
       "stream": "stderr",
       "text": [
        "DEBUG:build_overall_manifest:No tables found in directory initial_triage/2011-03-10\n"
       ]
      },
      {
       "output_type": "stream",
       "stream": "stderr",
       "text": [
        "DEBUG:build_overall_manifest:Working on directory initial_triage/2011-03-15\n"
       ]
      },
      {
       "output_type": "stream",
       "stream": "stderr",
       "text": [
        "DEBUG:build_overall_manifest:No tables found in directory initial_triage/2011-03-15\n"
       ]
      },
      {
       "output_type": "stream",
       "stream": "stderr",
       "text": [
        "DEBUG:build_overall_manifest:Working on directory initial_triage/2011-03-25/BH Aur/BH_Aur_calib\n"
       ]
      },
      {
       "output_type": "stream",
       "stream": "stderr",
       "text": [
        "DEBUG:build_overall_manifest:No tables found in directory initial_triage/2011-03-25/BH Aur/BH_Aur_calib\n"
       ]
      },
      {
       "output_type": "stream",
       "stream": "stderr",
       "text": [
        "DEBUG:build_overall_manifest:Working on directory initial_triage/2011-03-25/BH Aur\n"
       ]
      },
      {
       "output_type": "stream",
       "stream": "stderr",
       "text": [
        "DEBUG:build_overall_manifest:No tables found in directory initial_triage/2011-03-25/BH Aur\n"
       ]
      },
      {
       "output_type": "stream",
       "stream": "stderr",
       "text": [
        "DEBUG:build_overall_manifest:Working on directory initial_triage/2011-03-25/TW Boo/calib_TW_Boo\n"
       ]
      },
      {
       "output_type": "stream",
       "stream": "stderr",
       "text": [
        "DEBUG:build_overall_manifest:No tables found in directory initial_triage/2011-03-25/TW Boo/calib_TW_Boo\n"
       ]
      },
      {
       "output_type": "stream",
       "stream": "stderr",
       "text": [
        "DEBUG:build_overall_manifest:Working on directory initial_triage/2011-03-25/TW Boo\n"
       ]
      },
      {
       "output_type": "stream",
       "stream": "stderr",
       "text": [
        "DEBUG:build_overall_manifest:No tables found in directory initial_triage/2011-03-25/TW Boo\n"
       ]
      },
      {
       "output_type": "stream",
       "stream": "stderr",
       "text": [
        "DEBUG:build_overall_manifest:Working on directory initial_triage/2011-03-26/calibration\n"
       ]
      },
      {
       "output_type": "stream",
       "stream": "stderr",
       "text": [
        "DEBUG:build_overall_manifest:No tables found in directory initial_triage/2011-03-26/calibration\n"
       ]
      },
      {
       "output_type": "stream",
       "stream": "stderr",
       "text": [
        "DEBUG:build_overall_manifest:Working on directory initial_triage/2011-03-26/HAT-P-seq\n"
       ]
      },
      {
       "output_type": "stream",
       "stream": "stderr",
       "text": [
        "DEBUG:build_overall_manifest:No tables found in directory initial_triage/2011-03-26/HAT-P-seq\n"
       ]
      },
      {
       "output_type": "stream",
       "stream": "stderr",
       "text": [
        "DEBUG:build_overall_manifest:Working on directory initial_triage/2011-03-26/M101-seq\n"
       ]
      },
      {
       "output_type": "stream",
       "stream": "stderr",
       "text": [
        "DEBUG:build_overall_manifest:No tables found in directory initial_triage/2011-03-26/M101-seq\n"
       ]
      },
      {
       "output_type": "stream",
       "stream": "stderr",
       "text": [
        "DEBUG:build_overall_manifest:Working on directory initial_triage/2011-03-26\n"
       ]
      },
      {
       "output_type": "stream",
       "stream": "stderr",
       "text": [
        "DEBUG:build_overall_manifest:No tables found in directory initial_triage/2011-03-26\n"
       ]
      },
      {
       "output_type": "stream",
       "stream": "stderr",
       "text": [
        "DEBUG:build_overall_manifest:Working on directory initial_triage/2011-03-29\n"
       ]
      },
      {
       "output_type": "stream",
       "stream": "stderr",
       "text": [
        "DEBUG:build_overall_manifest:No tables found in directory initial_triage/2011-03-29\n"
       ]
      },
      {
       "output_type": "stream",
       "stream": "stderr",
       "text": [
        "DEBUG:build_overall_manifest:Working on directory initial_triage/2011-04-04\n"
       ]
      },
      {
       "output_type": "stream",
       "stream": "stderr",
       "text": [
        "DEBUG:build_overall_manifest:No tables found in directory initial_triage/2011-04-04\n"
       ]
      },
      {
       "output_type": "stream",
       "stream": "stderr",
       "text": [
        "DEBUG:build_overall_manifest:Working on directory initial_triage/2011-04-13\n"
       ]
      },
      {
       "output_type": "stream",
       "stream": "stderr",
       "text": [
        "DEBUG:build_overall_manifest:No tables found in directory initial_triage/2011-04-13\n"
       ]
      },
      {
       "output_type": "stream",
       "stream": "stderr",
       "text": [
        "DEBUG:build_overall_manifest:Working on directory initial_triage/2011-04-28/Calibration\n"
       ]
      },
      {
       "output_type": "stream",
       "stream": "stderr",
       "text": [
        "DEBUG:build_overall_manifest:No tables found in directory initial_triage/2011-04-28/Calibration\n"
       ]
      },
      {
       "output_type": "stream",
       "stream": "stderr",
       "text": [
        "DEBUG:build_overall_manifest:Working on directory initial_triage/2011-04-28/m51\n"
       ]
      },
      {
       "output_type": "stream",
       "stream": "stderr",
       "text": [
        "DEBUG:build_overall_manifest:No tables found in directory initial_triage/2011-04-28/m51\n"
       ]
      },
      {
       "output_type": "stream",
       "stream": "stderr",
       "text": [
        "DEBUG:build_overall_manifest:Working on directory initial_triage/2011-04-28/SZ_LYN\n"
       ]
      },
      {
       "output_type": "stream",
       "stream": "stderr",
       "text": [
        "DEBUG:build_overall_manifest:No tables found in directory initial_triage/2011-04-28/SZ_LYN\n"
       ]
      },
      {
       "output_type": "stream",
       "stream": "stderr",
       "text": [
        "DEBUG:build_overall_manifest:Working on directory initial_triage/2011-04-28/UX_UMA\n"
       ]
      },
      {
       "output_type": "stream",
       "stream": "stderr",
       "text": [
        "DEBUG:build_overall_manifest:No tables found in directory initial_triage/2011-04-28/UX_UMA\n"
       ]
      },
      {
       "output_type": "stream",
       "stream": "stderr",
       "text": [
        "DEBUG:build_overall_manifest:Working on directory initial_triage/2011-05-02\n"
       ]
      },
      {
       "output_type": "stream",
       "stream": "stderr",
       "text": [
        "DEBUG:build_overall_manifest:No tables found in directory initial_triage/2011-05-02\n"
       ]
      },
      {
       "output_type": "stream",
       "stream": "stderr",
       "text": [
        "DEBUG:build_overall_manifest:Working on directory initial_triage/2011-06-29\n"
       ]
      },
      {
       "output_type": "stream",
       "stream": "stderr",
       "text": [
        "DEBUG:build_overall_manifest:No tables found in directory initial_triage/2011-06-29\n"
       ]
      },
      {
       "output_type": "stream",
       "stream": "stderr",
       "text": [
        "DEBUG:build_overall_manifest:Working on directory initial_triage/2011-07-05\n"
       ]
      },
      {
       "output_type": "stream",
       "stream": "stderr",
       "text": [
        "DEBUG:build_overall_manifest:No tables found in directory initial_triage/2011-07-05\n"
       ]
      },
      {
       "output_type": "stream",
       "stream": "stderr",
       "text": [
        "DEBUG:build_overall_manifest:Working on directory initial_triage/2011-07-21\n"
       ]
      },
      {
       "output_type": "stream",
       "stream": "stderr",
       "text": [
        "DEBUG:build_overall_manifest:No tables found in directory initial_triage/2011-07-21\n"
       ]
      },
      {
       "output_type": "stream",
       "stream": "stderr",
       "text": [
        "DEBUG:build_overall_manifest:Working on directory initial_triage/2011-08-24\n"
       ]
      },
      {
       "output_type": "stream",
       "stream": "stderr",
       "text": [
        "DEBUG:build_overall_manifest:No tables found in directory initial_triage/2011-08-24\n"
       ]
      },
      {
       "output_type": "stream",
       "stream": "stderr",
       "text": [
        "DEBUG:build_overall_manifest:Working on directory initial_triage/2011-08-26\n"
       ]
      },
      {
       "output_type": "stream",
       "stream": "stderr",
       "text": [
        "DEBUG:build_overall_manifest:No tables found in directory initial_triage/2011-08-26\n"
       ]
      },
      {
       "output_type": "stream",
       "stream": "stderr",
       "text": [
        "DEBUG:build_overall_manifest:Working on directory initial_triage/2011-08-28\n"
       ]
      },
      {
       "output_type": "stream",
       "stream": "stderr",
       "text": [
        "DEBUG:build_overall_manifest:No tables found in directory initial_triage/2011-08-28\n"
       ]
      },
      {
       "output_type": "stream",
       "stream": "stderr",
       "text": [
        "DEBUG:build_overall_manifest:Working on directory initial_triage/2011-08-31\n"
       ]
      },
      {
       "output_type": "stream",
       "stream": "stderr",
       "text": [
        "DEBUG:build_overall_manifest:No tables found in directory initial_triage/2011-08-31\n"
       ]
      },
      {
       "output_type": "stream",
       "stream": "stderr",
       "text": [
        "DEBUG:build_overall_manifest:Working on directory initial_triage/2011-09-04\n"
       ]
      },
      {
       "output_type": "stream",
       "stream": "stderr",
       "text": [
        "DEBUG:build_overall_manifest:No tables found in directory initial_triage/2011-09-04\n"
       ]
      },
      {
       "output_type": "stream",
       "stream": "stderr",
       "text": [
        "DEBUG:build_overall_manifest:Working on directory initial_triage/2011-09-05\n"
       ]
      },
      {
       "output_type": "stream",
       "stream": "stderr",
       "text": [
        "DEBUG:build_overall_manifest:No tables found in directory initial_triage/2011-09-05\n"
       ]
      },
      {
       "output_type": "stream",
       "stream": "stderr",
       "text": [
        "DEBUG:build_overall_manifest:Working on directory initial_triage/2011-09-06\n"
       ]
      },
      {
       "output_type": "stream",
       "stream": "stderr",
       "text": [
        "DEBUG:build_overall_manifest:No tables found in directory initial_triage/2011-09-06\n"
       ]
      },
      {
       "output_type": "stream",
       "stream": "stderr",
       "text": [
        "DEBUG:build_overall_manifest:Working on directory initial_triage/2011-09-07\n"
       ]
      },
      {
       "output_type": "stream",
       "stream": "stderr",
       "text": [
        "DEBUG:build_overall_manifest:No tables found in directory initial_triage/2011-09-07\n"
       ]
      },
      {
       "output_type": "stream",
       "stream": "stderr",
       "text": [
        "DEBUG:build_overall_manifest:Working on directory initial_triage/2011-09-08\n"
       ]
      },
      {
       "output_type": "stream",
       "stream": "stderr",
       "text": [
        "DEBUG:build_overall_manifest:No tables found in directory initial_triage/2011-09-08\n"
       ]
      },
      {
       "output_type": "stream",
       "stream": "stderr",
       "text": [
        "DEBUG:build_overall_manifest:Working on directory initial_triage/2011-09-09\n"
       ]
      },
      {
       "output_type": "stream",
       "stream": "stderr",
       "text": [
        "DEBUG:build_overall_manifest:No tables found in directory initial_triage/2011-09-09\n"
       ]
      },
      {
       "output_type": "stream",
       "stream": "stderr",
       "text": [
        "DEBUG:build_overall_manifest:Working on directory initial_triage/2011-09-10\n"
       ]
      },
      {
       "output_type": "stream",
       "stream": "stderr",
       "text": [
        "DEBUG:build_overall_manifest:No tables found in directory initial_triage/2011-09-10\n"
       ]
      },
      {
       "output_type": "stream",
       "stream": "stderr",
       "text": [
        "DEBUG:build_overall_manifest:Working on directory initial_triage/2011-09-11\n"
       ]
      },
      {
       "output_type": "stream",
       "stream": "stderr",
       "text": [
        "DEBUG:build_overall_manifest:No tables found in directory initial_triage/2011-09-11\n"
       ]
      },
      {
       "output_type": "stream",
       "stream": "stderr",
       "text": [
        "DEBUG:build_overall_manifest:Working on directory initial_triage/2011-09-14\n"
       ]
      },
      {
       "output_type": "stream",
       "stream": "stderr",
       "text": [
        "DEBUG:build_overall_manifest:No tables found in directory initial_triage/2011-09-14\n"
       ]
      },
      {
       "output_type": "stream",
       "stream": "stderr",
       "text": [
        "DEBUG:build_overall_manifest:Working on directory initial_triage/2011-09-22\n"
       ]
      },
      {
       "output_type": "stream",
       "stream": "stderr",
       "text": [
        "DEBUG:build_overall_manifest:Working on directory initial_triage/2011-09-24\n"
       ]
      },
      {
       "output_type": "stream",
       "stream": "stderr",
       "text": [
        "DEBUG:build_overall_manifest:Working on directory initial_triage/2011-09-25/09.25.2011\n"
       ]
      },
      {
       "output_type": "stream",
       "stream": "stderr",
       "text": [
        "DEBUG:build_overall_manifest:Working on directory initial_triage/2011-09-27\n"
       ]
      },
      {
       "output_type": "stream",
       "stream": "stderr",
       "text": [
        "DEBUG:build_overall_manifest:Working on directory initial_triage/2011-09-30\n"
       ]
      },
      {
       "output_type": "stream",
       "stream": "stderr",
       "text": [
        "DEBUG:build_overall_manifest:Working on directory initial_triage/2011-10-02\n"
       ]
      },
      {
       "output_type": "stream",
       "stream": "stderr",
       "text": [
        "DEBUG:build_overall_manifest:Working on directory initial_triage/2011-10-16\n"
       ]
      },
      {
       "output_type": "stream",
       "stream": "stderr",
       "text": [
        "DEBUG:build_overall_manifest:Working on directory initial_triage/2011-10-21\n"
       ]
      },
      {
       "output_type": "stream",
       "stream": "stderr",
       "text": [
        "DEBUG:build_overall_manifest:Working on directory initial_triage/2011-10-23\n"
       ]
      },
      {
       "output_type": "stream",
       "stream": "stderr",
       "text": [
        "DEBUG:build_overall_manifest:Working on directory initial_triage/2011-10-28\n"
       ]
      },
      {
       "output_type": "stream",
       "stream": "stderr",
       "text": [
        "DEBUG:build_overall_manifest:Working on directory initial_triage/2011-11-02\n"
       ]
      },
      {
       "output_type": "stream",
       "stream": "stderr",
       "text": [
        "DEBUG:build_overall_manifest:Working on directory initial_triage/2011-11-08\n"
       ]
      },
      {
       "output_type": "stream",
       "stream": "stderr",
       "text": [
        "DEBUG:build_overall_manifest:Working on directory initial_triage/2011-11-17\n"
       ]
      },
      {
       "output_type": "stream",
       "stream": "stderr",
       "text": [
        "DEBUG:build_overall_manifest:Working on directory initial_triage/2011-11-21\n"
       ]
      },
      {
       "output_type": "stream",
       "stream": "stderr",
       "text": [
        "DEBUG:build_overall_manifest:Working on directory initial_triage/2011-11-22\n"
       ]
      },
      {
       "output_type": "stream",
       "stream": "stderr",
       "text": [
        "DEBUG:build_overall_manifest:Working on directory initial_triage/2011-11-23\n"
       ]
      },
      {
       "output_type": "stream",
       "stream": "stderr",
       "text": [
        "DEBUG:build_overall_manifest:Working on directory initial_triage/2011-11-28\n"
       ]
      },
      {
       "output_type": "stream",
       "stream": "stderr",
       "text": [
        "DEBUG:build_overall_manifest:Working on directory initial_triage/2011-12-01\n"
       ]
      },
      {
       "output_type": "stream",
       "stream": "stderr",
       "text": [
        "DEBUG:build_overall_manifest:Working on directory initial_triage/2011-12-05\n"
       ]
      },
      {
       "output_type": "stream",
       "stream": "stderr",
       "text": [
        "DEBUG:build_overall_manifest:Working on directory initial_triage/2011-12-09\n"
       ]
      },
      {
       "output_type": "stream",
       "stream": "stderr",
       "text": [
        "DEBUG:build_overall_manifest:Working on directory initial_triage/2011-12-19\n"
       ]
      },
      {
       "output_type": "stream",
       "stream": "stderr",
       "text": [
        "DEBUG:build_overall_manifest:Working on directory initial_triage/2012-01-23\n"
       ]
      },
      {
       "output_type": "stream",
       "stream": "stderr",
       "text": [
        "DEBUG:build_overall_manifest:Working on directory initial_triage/2012-01-24\n"
       ]
      },
      {
       "output_type": "stream",
       "stream": "stderr",
       "text": [
        "DEBUG:build_overall_manifest:Working on directory initial_triage/2012-01-26\n"
       ]
      },
      {
       "output_type": "stream",
       "stream": "stderr",
       "text": [
        "DEBUG:build_overall_manifest:Working on directory initial_triage/2012-02-01\n"
       ]
      },
      {
       "output_type": "stream",
       "stream": "stderr",
       "text": [
        "DEBUG:build_overall_manifest:Working on directory initial_triage/2012-02-05\n"
       ]
      },
      {
       "output_type": "stream",
       "stream": "stderr",
       "text": [
        "DEBUG:build_overall_manifest:Working on directory initial_triage/2012-02-07\n"
       ]
      },
      {
       "output_type": "stream",
       "stream": "stderr",
       "text": [
        "DEBUG:build_overall_manifest:Working on directory initial_triage/2012-02-08\n"
       ]
      },
      {
       "output_type": "stream",
       "stream": "stderr",
       "text": [
        "DEBUG:build_overall_manifest:Working on directory initial_triage/2012-02-10\n"
       ]
      },
      {
       "output_type": "stream",
       "stream": "stderr",
       "text": [
        "DEBUG:build_overall_manifest:Working on directory initial_triage/2012-02-11/Calibs\n"
       ]
      },
      {
       "output_type": "stream",
       "stream": "stderr",
       "text": [
        "DEBUG:build_overall_manifest:Working on directory initial_triage/2012-02-11/EY UMa\n"
       ]
      },
      {
       "output_type": "stream",
       "stream": "stderr",
       "text": [
        "DEBUG:build_overall_manifest:Working on directory initial_triage/2012-02-11/M101\n"
       ]
      },
      {
       "output_type": "stream",
       "stream": "stderr",
       "text": [
        "DEBUG:build_overall_manifest:Working on directory initial_triage/2012-02-11/NSV 4863\n"
       ]
      },
      {
       "output_type": "stream",
       "stream": "stderr",
       "text": [
        "DEBUG:build_overall_manifest:Working on directory initial_triage/2012-02-11/SZ_Lyn\n"
       ]
      },
      {
       "output_type": "stream",
       "stream": "stderr",
       "text": [
        "DEBUG:build_overall_manifest:Working on directory initial_triage/2012-02-11/TC0027C\n"
       ]
      },
      {
       "output_type": "stream",
       "stream": "stderr",
       "text": [
        "DEBUG:build_overall_manifest:Working on directory initial_triage/2012-02-12\n"
       ]
      },
      {
       "output_type": "stream",
       "stream": "stderr",
       "text": [
        "DEBUG:build_overall_manifest:Working on directory initial_triage/2012-02-19\n"
       ]
      },
      {
       "output_type": "stream",
       "stream": "stderr",
       "text": [
        "DEBUG:build_overall_manifest:No tables found in directory initial_triage/2012-02-19\n"
       ]
      },
      {
       "output_type": "stream",
       "stream": "stderr",
       "text": [
        "DEBUG:build_overall_manifest:Working on directory initial_triage/2012-03-10\n"
       ]
      },
      {
       "output_type": "stream",
       "stream": "stderr",
       "text": [
        "DEBUG:build_overall_manifest:Working on directory initial_triage/2012-03-12\n"
       ]
      },
      {
       "output_type": "stream",
       "stream": "stderr",
       "text": [
        "DEBUG:build_overall_manifest:Working on directory initial_triage/2012-03-21/mar21_2012\n"
       ]
      },
      {
       "output_type": "stream",
       "stream": "stderr",
       "text": [
        "DEBUG:build_overall_manifest:No tables found in directory initial_triage/2012-03-21/mar21_2012\n"
       ]
      },
      {
       "output_type": "stream",
       "stream": "stderr",
       "text": [
        "DEBUG:build_overall_manifest:Working on directory initial_triage/2012-03-21\n"
       ]
      },
      {
       "output_type": "stream",
       "stream": "stderr",
       "text": [
        "DEBUG:build_overall_manifest:Working on directory initial_triage/2012-04-03\n"
       ]
      },
      {
       "output_type": "stream",
       "stream": "stderr",
       "text": [
        "DEBUG:build_overall_manifest:Working on directory initial_triage/2012-04-04\n"
       ]
      },
      {
       "output_type": "stream",
       "stream": "stderr",
       "text": [
        "DEBUG:build_overall_manifest:Working on directory initial_triage/2012-04-09\n"
       ]
      },
      {
       "output_type": "stream",
       "stream": "stderr",
       "text": [
        "DEBUG:build_overall_manifest:Working on directory initial_triage/2012-04-11\n"
       ]
      },
      {
       "output_type": "stream",
       "stream": "stderr",
       "text": [
        "DEBUG:build_overall_manifest:Working on directory initial_triage/2012-05-12\n"
       ]
      },
      {
       "output_type": "stream",
       "stream": "stderr",
       "text": [
        "DEBUG:build_overall_manifest:No tables found in directory initial_triage/2012-05-12\n"
       ]
      },
      {
       "output_type": "stream",
       "stream": "stderr",
       "text": [
        "DEBUG:build_overall_manifest:Working on directory initial_triage/2012-06-04\n"
       ]
      },
      {
       "output_type": "stream",
       "stream": "stderr",
       "text": [
        "DEBUG:build_overall_manifest:Working on directory initial_triage/2012-06-14\n"
       ]
      },
      {
       "output_type": "stream",
       "stream": "stderr",
       "text": [
        "DEBUG:build_overall_manifest:Working on directory initial_triage/2012-06-21\n"
       ]
      },
      {
       "output_type": "stream",
       "stream": "stderr",
       "text": [
        "DEBUG:build_overall_manifest:No tables found in directory initial_triage/2012-06-21\n"
       ]
      },
      {
       "output_type": "stream",
       "stream": "stderr",
       "text": [
        "DEBUG:build_overall_manifest:Working on directory initial_triage/2012-07-30\n"
       ]
      },
      {
       "output_type": "stream",
       "stream": "stderr",
       "text": [
        "DEBUG:build_overall_manifest:Working on directory initial_triage/2012-08-10\n"
       ]
      },
      {
       "output_type": "stream",
       "stream": "stderr",
       "text": [
        "DEBUG:build_overall_manifest:Working on directory initial_triage/2012-08-16\n"
       ]
      },
      {
       "output_type": "stream",
       "stream": "stderr",
       "text": [
        "DEBUG:build_overall_manifest:Working on directory initial_triage/2012-08-20\n"
       ]
      },
      {
       "output_type": "stream",
       "stream": "stderr",
       "text": [
        "DEBUG:build_overall_manifest:Working on directory initial_triage/2012-08-25\n"
       ]
      },
      {
       "output_type": "stream",
       "stream": "stderr",
       "text": [
        "DEBUG:build_overall_manifest:Working on directory initial_triage/2012-09-22\n"
       ]
      },
      {
       "output_type": "stream",
       "stream": "stderr",
       "text": [
        "DEBUG:build_overall_manifest:Working on directory initial_triage/2012-09-23\n"
       ]
      },
      {
       "output_type": "stream",
       "stream": "stderr",
       "text": [
        "DEBUG:build_overall_manifest:Working on directory initial_triage/2012-09-26\n"
       ]
      },
      {
       "output_type": "stream",
       "stream": "stderr",
       "text": [
        "DEBUG:build_overall_manifest:Working on directory initial_triage/2012-09-29\n"
       ]
      },
      {
       "output_type": "stream",
       "stream": "stderr",
       "text": [
        "DEBUG:build_overall_manifest:Working on directory initial_triage/2012-10-06\n"
       ]
      },
      {
       "output_type": "stream",
       "stream": "stderr",
       "text": [
        "DEBUG:build_overall_manifest:Working on directory initial_triage/2012-11-15\n"
       ]
      },
      {
       "output_type": "stream",
       "stream": "stderr",
       "text": [
        "DEBUG:build_overall_manifest:Working on directory initial_triage/2012-12-09\n"
       ]
      },
      {
       "output_type": "stream",
       "stream": "stderr",
       "text": [
        "DEBUG:build_overall_manifest:Working on directory initial_triage/2013-01-09\n"
       ]
      },
      {
       "output_type": "stream",
       "stream": "stderr",
       "text": [
        "DEBUG:build_overall_manifest:Working on directory initial_triage/2013-01-27\n"
       ]
      },
      {
       "output_type": "stream",
       "stream": "stderr",
       "text": [
        "DEBUG:build_overall_manifest:No tables found in directory initial_triage/2013-01-27\n"
       ]
      },
      {
       "output_type": "stream",
       "stream": "stderr",
       "text": [
        "DEBUG:build_overall_manifest:Working on directory initial_triage/2013-03-10\n"
       ]
      },
      {
       "output_type": "stream",
       "stream": "stderr",
       "text": [
        "DEBUG:build_overall_manifest:Working on directory initial_triage/2013-04-13\n"
       ]
      },
      {
       "output_type": "stream",
       "stream": "stderr",
       "text": [
        "DEBUG:build_overall_manifest:Working on directory initial_triage/2013-04-19/BAD_TIMES\n"
       ]
      },
      {
       "output_type": "stream",
       "stream": "stderr",
       "text": [
        "DEBUG:build_overall_manifest:Working on directory initial_triage/2013-04-19\n"
       ]
      },
      {
       "output_type": "stream",
       "stream": "stderr",
       "text": [
        "DEBUG:build_overall_manifest:Working on directory initial_triage/2013-04-26\n"
       ]
      },
      {
       "output_type": "stream",
       "stream": "stderr",
       "text": [
        "DEBUG:build_overall_manifest:Working on directory initial_triage/2013-04-28\n"
       ]
      },
      {
       "output_type": "stream",
       "stream": "stderr",
       "text": [
        "DEBUG:build_overall_manifest:Working on directory initial_triage/2013-05-02\n"
       ]
      },
      {
       "output_type": "stream",
       "stream": "stderr",
       "text": [
        "DEBUG:build_overall_manifest:Working on directory initial_triage/2013-05-06\n"
       ]
      },
      {
       "output_type": "stream",
       "stream": "stderr",
       "text": [
        "DEBUG:build_overall_manifest:Working on directory initial_triage/2013-05-09\n"
       ]
      },
      {
       "output_type": "stream",
       "stream": "stderr",
       "text": [
        "DEBUG:build_overall_manifest:Working on directory initial_triage/2013-05-23\n"
       ]
      },
      {
       "output_type": "stream",
       "stream": "stderr",
       "text": [
        "DEBUG:build_overall_manifest:Working on directory initial_triage/2013-07-03\n"
       ]
      },
      {
       "output_type": "stream",
       "stream": "stderr",
       "text": [
        "DEBUG:build_overall_manifest:Working on directory initial_triage/2013-08-11\n"
       ]
      },
      {
       "output_type": "stream",
       "stream": "stderr",
       "text": [
        "DEBUG:build_overall_manifest:Working on directory initial_triage/2013-08-12\n"
       ]
      },
      {
       "output_type": "stream",
       "stream": "stderr",
       "text": [
        "DEBUG:build_overall_manifest:Working on directory initial_triage/2013-08-13\n"
       ]
      },
      {
       "output_type": "stream",
       "stream": "stderr",
       "text": [
        "DEBUG:build_overall_manifest:Working on directory initial_triage/2013-08-16\n"
       ]
      },
      {
       "output_type": "stream",
       "stream": "stderr",
       "text": [
        "DEBUG:build_overall_manifest:Working on directory initial_triage/2013-08-19\n"
       ]
      },
      {
       "output_type": "stream",
       "stream": "stderr",
       "text": [
        "DEBUG:build_overall_manifest:Working on directory initial_triage/2013-09-11/auto-darked-DO-NOT-USE\n"
       ]
      },
      {
       "output_type": "stream",
       "stream": "stderr",
       "text": [
        "DEBUG:build_overall_manifest:Working on directory initial_triage/2013-09-11\n"
       ]
      },
      {
       "output_type": "stream",
       "stream": "stderr",
       "text": [
        "DEBUG:build_overall_manifest:Working on directory initial_triage/2013-09-12\n"
       ]
      },
      {
       "output_type": "stream",
       "stream": "stderr",
       "text": [
        "DEBUG:build_overall_manifest:Working on directory initial_triage/2013-09-13\n"
       ]
      },
      {
       "output_type": "stream",
       "stream": "stderr",
       "text": [
        "DEBUG:build_overall_manifest:Working on directory initial_triage/2013-09-16\n"
       ]
      },
      {
       "output_type": "stream",
       "stream": "stderr",
       "text": [
        "DEBUG:build_overall_manifest:Working on directory initial_triage/2013-10-15\n"
       ]
      }
     ],
     "prompt_number": 7
    },
    {
     "cell_type": "code",
     "collapsed": false,
     "input": [
      "full_table = Table(full_table)"
     ],
     "language": "python",
     "metadata": {},
     "outputs": [],
     "prompt_number": 11
    },
    {
     "cell_type": "code",
     "collapsed": false,
     "input": [
      "full_table.write('initial_all.txt', format='ascii', delimiter=',')"
     ],
     "language": "python",
     "metadata": {},
     "outputs": [],
     "prompt_number": 12
    },
    {
     "cell_type": "code",
     "collapsed": false,
     "input": [
      "full_data = Table.read('initial_all.txt', format='ascii')"
     ],
     "language": "python",
     "metadata": {},
     "outputs": [],
     "prompt_number": 13
    },
    {
     "cell_type": "code",
     "collapsed": false,
     "input": [
      "light_files = full_data['imagetyp'] == 'LIGHT'"
     ],
     "language": "python",
     "metadata": {},
     "outputs": [],
     "prompt_number": 14
    },
    {
     "cell_type": "code",
     "collapsed": false,
     "input": [
      "filenames = array(full_data['file'][light_files])"
     ],
     "language": "python",
     "metadata": {},
     "outputs": [],
     "prompt_number": 15
    },
    {
     "cell_type": "code",
     "collapsed": false,
     "input": [
      "import re"
     ],
     "language": "python",
     "metadata": {},
     "outputs": [],
     "prompt_number": 16
    },
    {
     "cell_type": "markdown",
     "metadata": {},
     "source": [
      "### Grab just the first part of the file name...."
     ]
    },
    {
     "cell_type": "code",
     "collapsed": false,
     "input": [
      "number_crap = re.compile(r'-\\d\\d\\d.*\\.fit')\n",
      "object_guesses = [(number_crap.split(name))[0] for name in filenames]"
     ],
     "language": "python",
     "metadata": {},
     "outputs": [],
     "prompt_number": 17
    },
    {
     "cell_type": "markdown",
     "metadata": {},
     "source": [
      "### standardize case and use of underscores/dashes/spaces\n",
      "\n",
      "All names will be forced lowercase, and all underscores and spaces changed to dashes."
     ]
    },
    {
     "cell_type": "code",
     "collapsed": false,
     "input": [
      "object_normalized = [object.lower() for object in object_guesses]\n",
      "spaces = re.compile(r'\\s+')\n",
      "underscore = re.compile(r'_+')\n",
      "repeated_dashes = re.compile(r'--+')\n",
      "subs = [spaces, underscore, repeated_dashes]\n",
      "for sub in subs:\n",
      "    object_normalized = [sub.sub('-',object) for object in object_normalized]\n"
     ],
     "language": "python",
     "metadata": {},
     "outputs": [],
     "prompt_number": 18
    },
    {
     "cell_type": "markdown",
     "metadata": {},
     "source": [
      "### Get a list of just the unique entries in this..."
     ]
    },
    {
     "cell_type": "code",
     "collapsed": false,
     "input": [
      "unique_objects = list(set(object_normalized))\n",
      "print len(unique_objects)"
     ],
     "language": "python",
     "metadata": {},
     "outputs": [
      {
       "output_type": "stream",
       "stream": "stdout",
       "text": [
        "133\n"
       ]
      }
     ],
     "prompt_number": 19
    },
    {
     "cell_type": "code",
     "collapsed": false,
     "input": [
      "unique_table = Table(data=[unique_objects], names=['object'])"
     ],
     "language": "python",
     "metadata": {},
     "outputs": [],
     "prompt_number": 21
    },
    {
     "cell_type": "code",
     "collapsed": false,
     "input": [
      "unique_table.sort('object')"
     ],
     "language": "python",
     "metadata": {},
     "outputs": [
      {
       "html": [
        "<table><tr><th>object</th></tr><tr><td>2005-yu55</td></tr><tr><td>beehive-cluster</td></tr><tr><td>bh-aur</td></tr><tr><td>ccd-image-10.fit</td></tr><tr><td>ccd-image-11.fit</td></tr><tr><td>ccd-image-12.fit</td></tr><tr><td>ccd-image-13.fit</td></tr><tr><td>ccd-image-14.fit</td></tr><tr><td>ccd-image-15.fit</td></tr><tr><td>ccd-image-16.fit</td></tr><tr><td>ccd-image-17.fit</td></tr><tr><td>ccd-image-18.fit</td></tr><tr><td>ccd-image-19.fit</td></tr><tr><td>ccd-image-20.fit</td></tr><tr><td>ccd-image-21.fit</td></tr><tr><td>ccd-image-22.fit</td></tr><tr><td>ccd-image-23.fit</td></tr><tr><td>ccd-image-24.fit</td></tr><tr><td>ccd-image-27.fit</td></tr><tr><td>ccd-image-45.fit</td></tr></table>"
       ],
       "metadata": {},
       "output_type": "pyout",
       "prompt_number": 24,
       "text": [
        "<Table rows=20 names=('object')>\n",
        "array([('2005-yu55',), ('beehive-cluster',), ('bh-aur',),\n",
        "       ('ccd-image-10.fit',), ('ccd-image-11.fit',), ('ccd-image-12.fit',),\n",
        "       ('ccd-image-13.fit',), ('ccd-image-14.fit',), ('ccd-image-15.fit',),\n",
        "       ('ccd-image-16.fit',), ('ccd-image-17.fit',), ('ccd-image-18.fit',),\n",
        "       ('ccd-image-19.fit',), ('ccd-image-20.fit',), ('ccd-image-21.fit',),\n",
        "       ('ccd-image-22.fit',), ('ccd-image-23.fit',), ('ccd-image-24.fit',),\n",
        "       ('ccd-image-27.fit',), ('ccd-image-45.fit',)], \n",
        "      dtype=[('object', 'S20')])"
       ]
      }
     ],
     "prompt_number": 24
    },
    {
     "cell_type": "markdown",
     "metadata": {},
     "source": [
      "### Go through table 20 at a time and identify any objects that are bad/duplicates"
     ]
    },
    {
     "cell_type": "code",
     "collapsed": false,
     "input": [
      "start_row = 0\n",
      "unique_table[start_row:start_row+20]"
     ],
     "language": "python",
     "metadata": {},
     "outputs": [
      {
       "html": [
        "<table><tr><th>object</th></tr><tr><td>2005-yu55</td></tr><tr><td>beehive-cluster</td></tr><tr><td>bh-aur</td></tr><tr><td>ccd-image-10.fit</td></tr><tr><td>ccd-image-11.fit</td></tr><tr><td>ccd-image-12.fit</td></tr><tr><td>ccd-image-13.fit</td></tr><tr><td>ccd-image-14.fit</td></tr><tr><td>ccd-image-15.fit</td></tr><tr><td>ccd-image-16.fit</td></tr><tr><td>ccd-image-17.fit</td></tr><tr><td>ccd-image-18.fit</td></tr><tr><td>ccd-image-19.fit</td></tr><tr><td>ccd-image-20.fit</td></tr><tr><td>ccd-image-21.fit</td></tr><tr><td>ccd-image-22.fit</td></tr><tr><td>ccd-image-23.fit</td></tr><tr><td>ccd-image-24.fit</td></tr><tr><td>ccd-image-27.fit</td></tr><tr><td>ccd-image-45.fit</td></tr></table>"
       ],
       "metadata": {},
       "output_type": "pyout",
       "prompt_number": 29,
       "text": [
        "<Table rows=20 names=('object')>\n",
        "array([('2005-yu55',), ('beehive-cluster',), ('bh-aur',),\n",
        "       ('ccd-image-10.fit',), ('ccd-image-11.fit',), ('ccd-image-12.fit',),\n",
        "       ('ccd-image-13.fit',), ('ccd-image-14.fit',), ('ccd-image-15.fit',),\n",
        "       ('ccd-image-16.fit',), ('ccd-image-17.fit',), ('ccd-image-18.fit',),\n",
        "       ('ccd-image-19.fit',), ('ccd-image-20.fit',), ('ccd-image-21.fit',),\n",
        "       ('ccd-image-22.fit',), ('ccd-image-23.fit',), ('ccd-image-24.fit',),\n",
        "       ('ccd-image-27.fit',), ('ccd-image-45.fit',)], \n",
        "      dtype=[('object', 'S20')])"
       ]
      }
     ],
     "prompt_number": 29
    },
    {
     "cell_type": "code",
     "collapsed": false,
     "input": [
      "bad_objects = ['ccd-*']\n",
      "start_row += 20\n",
      "unique_table[start_row:start_row+20]"
     ],
     "language": "python",
     "metadata": {},
     "outputs": [
      {
       "html": [
        "<table><tr><th>object</th></tr><tr><td>ccd-image-6.fit</td></tr><tr><td>ccd-image-7.fit</td></tr><tr><td>ccd-image-9.fit</td></tr><tr><td>comet-ison</td></tr><tr><td>corot-11b</td></tr><tr><td>ee-lyn</td></tr><tr><td>ee-lyn-30-sec</td></tr><tr><td>el-dra</td></tr><tr><td>en-cep</td></tr><tr><td>er-ori</td></tr><tr><td>ey-uma</td></tr><tr><td>ey-uma-90sec</td></tr><tr><td>ey-uma-bad</td></tr><tr><td>ey-uma-try.fit</td></tr><tr><td>fk-peg</td></tr><tr><td>flat</td></tr><tr><td>flats</td></tr><tr><td>hat-p-23</td></tr><tr><td>hat-p-32-b</td></tr><tr><td>hr</td></tr></table>"
       ],
       "metadata": {},
       "output_type": "pyout",
       "prompt_number": 30,
       "text": [
        "<Table rows=20 names=('object')>\n",
        "array([('ccd-image-6.fit',), ('ccd-image-7.fit',), ('ccd-image-9.fit',),\n",
        "       ('comet-ison',), ('corot-11b',), ('ee-lyn',), ('ee-lyn-30-sec',),\n",
        "       ('el-dra',), ('en-cep',), ('er-ori',), ('ey-uma',),\n",
        "       ('ey-uma-90sec',), ('ey-uma-bad',), ('ey-uma-try.fit',),\n",
        "       ('fk-peg',), ('flat',), ('flats',), ('hat-p-23',), ('hat-p-32-b',),\n",
        "       ('hr',)], \n",
        "      dtype=[('object', 'S20')])"
       ]
      }
     ],
     "prompt_number": 30
    },
    {
     "cell_type": "code",
     "collapsed": false,
     "input": [
      "bad_objects.append('ee-lyn-30-sec')\n",
      "bad_objects.append('flat')\n",
      "bad_objects.append('flats')\n",
      "bad_objects.append('ey-uma-*')\n",
      "bad_objects.append('hr')\n",
      "start_row += 20\n",
      "unique_table[start_row:start_row+20]"
     ],
     "language": "python",
     "metadata": {},
     "outputs": [
      {
       "html": [
        "<table><tr><th>object</th></tr><tr><td>hr7308</td></tr><tr><td>ht-vul</td></tr><tr><td>image</td></tr><tr><td>jupiter</td></tr><tr><td>jupiter-01.fit</td></tr><tr><td>jupiter-02.fit</td></tr><tr><td>kelt-1-b</td></tr><tr><td>koi</td></tr><tr><td>ku-dra</td></tr><tr><td>ku-drac</td></tr><tr><td>kz-uma</td></tr><tr><td>linearity</td></tr><tr><td>linearity-flood-flat</td></tr><tr><td>m101</td></tr><tr><td>m101-i.fit</td></tr><tr><td>m101-maybe.fit</td></tr><tr><td>m101-sn-2011fe</td></tr><tr><td>m101.fit</td></tr><tr><td>m106</td></tr><tr><td>m106.fit</td></tr></table>"
       ],
       "metadata": {},
       "output_type": "pyout",
       "prompt_number": 31,
       "text": [
        "<Table rows=20 names=('object')>\n",
        "array([('hr7308',), ('ht-vul',), ('image',), ('jupiter',),\n",
        "       ('jupiter-01.fit',), ('jupiter-02.fit',), ('kelt-1-b',), ('koi',),\n",
        "       ('ku-dra',), ('ku-drac',), ('kz-uma',), ('linearity',),\n",
        "       ('linearity-flood-flat',), ('m101',), ('m101-i.fit',),\n",
        "       ('m101-maybe.fit',), ('m101-sn-2011fe',), ('m101.fit',), ('m106',),\n",
        "       ('m106.fit',)], \n",
        "      dtype=[('object', 'S20')])"
       ]
      }
     ],
     "prompt_number": 31
    },
    {
     "cell_type": "code",
     "collapsed": false,
     "input": [
      "bad_objects.extend(['jupiter*', 'koi', 'ku-drac', 'linearity*', 'm101-*', '*.fit'])\n",
      "start_row += 20\n",
      "unique_table[start_row:start_row+20]"
     ],
     "language": "python",
     "metadata": {},
     "outputs": [
      {
       "html": [
        "<table><tr><th>object</th></tr><tr><td>m34</td></tr><tr><td>m34-linearity</td></tr><tr><td>m51</td></tr><tr><td>m52</td></tr><tr><td>m57</td></tr><tr><td>m63.fit</td></tr><tr><td>m65</td></tr><tr><td>m81</td></tr><tr><td>m92</td></tr><tr><td>m95</td></tr><tr><td>mars</td></tr><tr><td>moon</td></tr><tr><td>mu-vul</td></tr><tr><td>muvul</td></tr><tr><td>my-aql</td></tr><tr><td>mystery-pointing.fit</td></tr><tr><td>neo-su3dfd9</td></tr><tr><td>neptune</td></tr><tr><td>ngc</td></tr><tr><td>ngc-5907</td></tr></table>"
       ],
       "metadata": {},
       "output_type": "pyout",
       "prompt_number": 32,
       "text": [
        "<Table rows=20 names=('object')>\n",
        "array([('m34',), ('m34-linearity',), ('m51',), ('m52',), ('m57',),\n",
        "       ('m63.fit',), ('m65',), ('m81',), ('m92',), ('m95',), ('mars',),\n",
        "       ('moon',), ('mu-vul',), ('muvul',), ('my-aql',),\n",
        "       ('mystery-pointing.fit',), ('neo-su3dfd9',), ('neptune',), ('ngc',),\n",
        "       ('ngc-5907',)], \n",
        "      dtype=[('object', 'S20')])"
       ]
      }
     ],
     "prompt_number": 32
    },
    {
     "cell_type": "code",
     "collapsed": false,
     "input": [
      "bad_objects.extend(['m34-*', 'mars', 'moon', 'muvul', 'neo-*', 'neptune', 'ngc'])\n",
      "add_objects = ['m63']\n",
      "start_row += 20\n",
      "unique_table[start_row:start_row+20]"
     ],
     "language": "python",
     "metadata": {},
     "outputs": [
      {
       "html": [
        "<table><tr><th>object</th></tr><tr><td>ngc-6946</td></tr><tr><td>ngc891</td></tr><tr><td>nsv-4863</td></tr><tr><td>orion-nebula</td></tr><tr><td>peg-cross.fit</td></tr><tr><td>pleiades</td></tr><tr><td>point-me.fit</td></tr><tr><td>qq-dra</td></tr><tr><td>qqdra</td></tr><tr><td>rx-for</td></tr><tr><td>sa-92</td></tr><tr><td>sa104</td></tr><tr><td>sa110</td></tr><tr><td>sa110-extra01.fit</td></tr><tr><td>sa110-extra02.fit</td></tr><tr><td>sa110-extra03.fit</td></tr><tr><td>sa110hat-p-32-b</td></tr><tr><td>sa110sf2</td></tr><tr><td>sa111</td></tr><tr><td>sa112-sf1</td></tr></table>"
       ],
       "metadata": {},
       "output_type": "pyout",
       "prompt_number": 33,
       "text": [
        "<Table rows=20 names=('object')>\n",
        "array([('ngc-6946',), ('ngc891',), ('nsv-4863',), ('orion-nebula',),\n",
        "       ('peg-cross.fit',), ('pleiades',), ('point-me.fit',), ('qq-dra',),\n",
        "       ('qqdra',), ('rx-for',), ('sa-92',), ('sa104',), ('sa110',),\n",
        "       ('sa110-extra01.fit',), ('sa110-extra02.fit',),\n",
        "       ('sa110-extra03.fit',), ('sa110hat-p-32-b',), ('sa110sf2',),\n",
        "       ('sa111',), ('sa112-sf1',)], \n",
        "      dtype=[('object', 'S20')])"
       ]
      }
     ],
     "prompt_number": 33
    },
    {
     "cell_type": "code",
     "collapsed": false,
     "input": [
      "bad_objects.extend(['peg-cross', 'qqdra', 'sa110-*', 'sa110hat-p-32-b', 'sa110sf2', 'sa112-*'])\n",
      "add_objects.extend(['sa112'])\n",
      "start_row += 20\n",
      "unique_table[start_row:start_row+20]"
     ],
     "language": "python",
     "metadata": {},
     "outputs": [
      {
       "html": [
        "<table><tr><th>object</th></tr><tr><td>sa113</td></tr><tr><td>sa92</td></tr><tr><td>sa95</td></tr><tr><td>sa95-102</td></tr><tr><td>sa98</td></tr><tr><td>saturn</td></tr><tr><td>sf112-sf1</td></tr><tr><td>sw-lac</td></tr><tr><td>sz-lyn</td></tr><tr><td>tc0027c-i-1.fit</td></tr><tr><td>tc0027c-i-2.fit</td></tr><tr><td>tc0027c-i-3.fit</td></tr><tr><td>tres-3b</td></tr><tr><td>tres3-b-i.fit</td></tr><tr><td>twi-diffuser-flat</td></tr><tr><td>twi-flat</td></tr><tr><td>twi-flat-diff</td></tr><tr><td>ugc9379</td></tr><tr><td>v0440-lac</td></tr><tr><td>v0440lac</td></tr></table>"
       ],
       "metadata": {},
       "output_type": "pyout",
       "prompt_number": 34,
       "text": [
        "<Table rows=20 names=('object')>\n",
        "array([('sa113',), ('sa92',), ('sa95',), ('sa95-102',), ('sa98',),\n",
        "       ('saturn',), ('sf112-sf1',), ('sw-lac',), ('sz-lyn',),\n",
        "       ('tc0027c-i-1.fit',), ('tc0027c-i-2.fit',), ('tc0027c-i-3.fit',),\n",
        "       ('tres-3b',), ('tres3-b-i.fit',), ('twi-diffuser-flat',),\n",
        "       ('twi-flat',), ('twi-flat-diff',), ('ugc9379',), ('v0440-lac',),\n",
        "       ('v0440lac',)], \n",
        "      dtype=[('object', 'S20')])"
       ]
      }
     ],
     "prompt_number": 34
    },
    {
     "cell_type": "code",
     "collapsed": false,
     "input": [
      "bad_objects.extend(['sa92', 'twi*', 'v0440lac', 'saturn', 'sf112-sf1'])\n",
      "add_objects.extend([])\n",
      "start_row += 20\n",
      "unique_table[start_row:start_row+20]"
     ],
     "language": "python",
     "metadata": {},
     "outputs": [
      {
       "html": [
        "<table><tr><th>object</th></tr><tr><td>v0552-cas</td></tr><tr><td>v0552cas</td></tr><tr><td>v0556-cas</td></tr><tr><td>v0556cas</td></tr><tr><td>v0566-cas</td></tr><tr><td>v381-per</td></tr><tr><td>vx-her</td></tr><tr><td>wasp-10-b</td></tr><tr><td>xx-cyg</td></tr><tr><td>xx-cyg-ini.fit</td></tr><tr><td>xxcyg</td></tr><tr><td>yk17-01.fit</td></tr><tr><td>yk17-2.fit</td></tr></table>"
       ],
       "metadata": {},
       "output_type": "pyout",
       "prompt_number": 35,
       "text": [
        "<Table rows=13 names=('object')>\n",
        "array([('v0552-cas',), ('v0552cas',), ('v0556-cas',), ('v0556cas',),\n",
        "       ('v0566-cas',), ('v381-per',), ('vx-her',), ('wasp-10-b',),\n",
        "       ('xx-cyg',), ('xx-cyg-ini.fit',), ('xxcyg',), ('yk17-01.fit',),\n",
        "       ('yk17-2.fit',)], \n",
        "      dtype=[('object', 'S20')])"
       ]
      }
     ],
     "prompt_number": 35
    },
    {
     "cell_type": "code",
     "collapsed": false,
     "input": [
      "bad_objects.extend(['v0552cas', 'v0556cas', 'xxcyg'])"
     ],
     "language": "python",
     "metadata": {},
     "outputs": [],
     "prompt_number": 36
    },
    {
     "cell_type": "markdown",
     "metadata": {},
     "source": [
      "Turns out there were a few I missed that I discovered when I took a first look at the list of \"good\" objects below. They were:"
     ]
    },
    {
     "cell_type": "code",
     "collapsed": false,
     "input": [
      "bad_objects.extend(['image', '2005-yu55', 'sa95-102'])\n",
      "# 2005-yu55 is a real object--an asteroid--but it won't be found by simbad"
     ],
     "language": "python",
     "metadata": {},
     "outputs": [],
     "prompt_number": 43
    },
    {
     "cell_type": "markdown",
     "metadata": {},
     "source": [
      "### Make a list of objects without the bad ones...\n",
      "\n",
      "...by building up one really big regular expression. FIrst need to translate any `*` in the list of `bad_objects` to `.*` for the regular expression."
     ]
    },
    {
     "cell_type": "code",
     "collapsed": false,
     "input": [
      "bad_for_re = [object.replace('*', '.*') for object in bad_objects]"
     ],
     "language": "python",
     "metadata": {},
     "outputs": [],
     "prompt_number": 44
    },
    {
     "cell_type": "markdown",
     "metadata": {},
     "source": [
      "Now make sure all regular expressions start with `^` to match the beginning of the string only, and end with `$` unless there is a wild card in the regular expression. In other words, the *whole word* must match."
     ]
    },
    {
     "cell_type": "code",
     "collapsed": false,
     "input": [
      "bad_for_re = ['^' + obj for obj in bad_for_re]\n",
      "bad_for_re = [ obj + ('$' if '*' not in obj else '') for obj in bad_for_re]"
     ],
     "language": "python",
     "metadata": {},
     "outputs": [],
     "prompt_number": 108
    },
    {
     "cell_type": "code",
     "collapsed": false,
     "input": [
      "bad_re = re.compile('|'.join(bad_for_re))\n",
      "print '|'.join(bad_for_re)"
     ],
     "language": "python",
     "metadata": {},
     "outputs": [
      {
       "output_type": "stream",
       "stream": "stdout",
       "text": [
        "^ccd-.*|^ee-lyn-30-sec$|^flat$|^flats$|^ey-uma-.*|^hr$|^jupiter.*|^koi$|^ku-drac$|^linearity.*|^m101-.*|^.*.fit|^m34-.*|^mars$|^moon$|^muvul$|^neo-.*|^neptune$|^ngc$|^peg-cross$|^qqdra$|^sa110-.*|^sa110hat-p-32-b$|^sa110sf2$|^sa112-.*|^sa92$|^twi.*|^v0440lac$|^saturn$|^sf112-sf1$|^v0552cas$|^v0556cas$|^xxcyg$|^image$|^2005-yu55$|^sa95-102$\n"
       ]
      }
     ],
     "prompt_number": 109
    },
    {
     "cell_type": "markdown",
     "metadata": {},
     "source": [
      "Now use a list comprehension to get only the objects that do not match the regular expression for bad objects."
     ]
    },
    {
     "cell_type": "code",
     "collapsed": false,
     "input": [
      "good_objects = [obj for obj in unique_table['object'] if not bad_re.search(obj)]\n",
      "print good_objects"
     ],
     "language": "python",
     "metadata": {},
     "outputs": [
      {
       "output_type": "stream",
       "stream": "stdout",
       "text": [
        "['beehive-cluster', 'bh-aur', 'comet-ison', 'corot-11b', 'ee-lyn', 'el-dra', 'en-cep', 'er-ori', 'ey-uma', 'fk-peg', 'hat-p-23', 'hat-p-32-b', 'hr7308', 'ht-vul', 'kelt-1-b', 'ku-dra', 'kz-uma', 'm101', 'm106', 'm34', 'm51', 'm52', 'm57', 'm65', 'm81', 'm92', 'm95', 'mu-vul', 'my-aql', 'ngc-5907', 'ngc-6946', 'ngc891', 'nsv-4863', 'orion-nebula', 'pleiades', 'qq-dra', 'rx-for', 'sa-92', 'sa104', 'sa110', 'sa111', 'sa113', 'sa95', 'sa98', 'sw-lac', 'sz-lyn', 'tres-3b', 'ugc9379', 'v0440-lac', 'v0552-cas', 'v0556-cas', 'v0566-cas', 'v381-per', 'vx-her', 'wasp-10-b', 'xx-cyg']\n"
       ]
      }
     ],
     "prompt_number": 110
    },
    {
     "cell_type": "markdown",
     "metadata": {},
     "source": [
      "And, finally, translate any dashes to spaces because simbad prefers spaces"
     ]
    },
    {
     "cell_type": "code",
     "collapsed": false,
     "input": [
      "good_objects = [obj.replace('-', ' ') for obj in good_objects]"
     ],
     "language": "python",
     "metadata": {},
     "outputs": [],
     "prompt_number": 111
    },
    {
     "cell_type": "markdown",
     "metadata": {},
     "source": [
      "### Now look up coordinates for each of these, making a note of any bad ones"
     ]
    },
    {
     "cell_type": "code",
     "collapsed": false,
     "input": [
      "ra_dec = {}\n",
      "failed = []\n",
      "for obj in good_objects:\n",
      "    try:\n",
      "        ra_dec[obj] = FK5Coordinates.from_name(obj)\n",
      "    except name_resolve.NameResolveError:\n",
      "        failed.append(obj)"
     ],
     "language": "python",
     "metadata": {},
     "outputs": [],
     "prompt_number": 112
    },
    {
     "cell_type": "code",
     "collapsed": false,
     "input": [
      "print failed"
     ],
     "language": "python",
     "metadata": {},
     "outputs": [
      {
       "output_type": "stream",
       "stream": "stdout",
       "text": [
        "['beehive cluster', 'comet ison', 'kelt 1 b', 'mu vul', 'sa104', 'sa111', 'tres 3b']\n"
       ]
      }
     ],
     "prompt_number": 113
    },
    {
     "cell_type": "markdown",
     "metadata": {},
     "source": [
      "So...\n",
      "\n",
      "+ beehive cluster is M44\n",
      "+ comet ison should have been dumped\n",
      "+ kelt 1b only succeeds *with* a dash: kelt-1b\n",
      "+ mu vul is in simbad but only succeeds with TYC 2141-2569-1\n",
      "+ sa104 should have succeeded....WAIT, none of the SA's have RA/Dec, no wait again, SOME of them do...\n",
      "+ tres 3b also likes hyphens\n",
      "\n",
      "Fix all of these except the two SA's:"
     ]
    },
    {
     "cell_type": "code",
     "collapsed": false,
     "input": [
      "ra_dec['m44'] = FK5Coordinates.from_name('m44')\n",
      "ra_dec['kelt-1b'] = FK5Coordinates.from_name('kelt-1b')\n",
      "ra_dec['mu vul'] = FK5Coordinates.from_name('TYC 2141-2569-1')\n",
      "ra_dec['tres-3b'] = FK5Coordinates.from_name('tres-3b')"
     ],
     "language": "python",
     "metadata": {},
     "outputs": [],
     "prompt_number": 114
    },
    {
     "cell_type": "markdown",
     "metadata": {},
     "source": [
      "The SA coordinates I'm grabbing from my values for them in iObserve"
     ]
    },
    {
     "cell_type": "code",
     "collapsed": false,
     "input": [
      "ra_dec['sa104'] = FK5Coordinates('12h42m53.51s -0d32m00.9s')\n",
      "ra_dec['sa111'] = FK5Coordinates('19h37m49.70s +0d21m35.0s')"
     ],
     "language": "python",
     "metadata": {},
     "outputs": [],
     "prompt_number": 115
    },
    {
     "cell_type": "markdown",
     "metadata": {},
     "source": [
      "*sigh* I can never remember how to get formatted RA/Dec out of coordinates. And I think it is changing in astropy 0.3..."
     ]
    },
    {
     "cell_type": "code",
     "collapsed": false,
     "input": [
      "foo = ra_dec['tres-3b']\n",
      "print foo.ra.format(sep=':', unit=u.hour, precision=2)\n",
      "print foo.dec.format(sep=':', alwayssign=True, precision=2)"
     ],
     "language": "python",
     "metadata": {},
     "outputs": [
      {
       "output_type": "stream",
       "stream": "stdout",
       "text": [
        "17:52:07.02\n",
        "+37:32:46.22\n"
       ]
      }
     ],
     "prompt_number": 116
    },
    {
     "cell_type": "code",
     "collapsed": false,
     "input": [
      "objects = []\n",
      "ra = []\n",
      "dec = []\n",
      "for obj, loc in ra_dec.items():\n",
      "    objects.append(obj)\n",
      "    ra.append(loc.ra.format(sep=':', unit=u.hour, precision=2))\n",
      "    dec.append(loc.dec.format(sep=':', alwayssign=True, precision=2))"
     ],
     "language": "python",
     "metadata": {},
     "outputs": [],
     "prompt_number": 117
    },
    {
     "cell_type": "code",
     "collapsed": false,
     "input": [
      "object_table_final = Table(data=[objects, ra, dec], names=['object', 'ra', 'dec'])\n",
      "object_table_final.sort('object')"
     ],
     "language": "python",
     "metadata": {},
     "outputs": [],
     "prompt_number": 118
    },
    {
     "cell_type": "code",
     "collapsed": false,
     "input": [
      "object_table_final"
     ],
     "language": "python",
     "metadata": {},
     "outputs": [
      {
       "html": [
        "<table><tr><th>object</th><th>ra</th><th>dec</th></tr><tr><td>bh aur</td><td>5:12:04.27</td><td>+33:57:46.94</td></tr><tr><td>corot 11b</td><td>18:42:44.95</td><td>+5:56:15.72</td></tr><tr><td>ee lyn</td><td>8:14:50.31</td><td>+48:49:16.17</td></tr><tr><td>el dra</td><td>15:21:59.86</td><td>+61:12:40.51</td></tr><tr><td>en cep</td><td>0:24:41.27</td><td>+83:26:18.51</td></tr><tr><td>er ori</td><td>5:11:14.51</td><td>-8:33:24.72</td></tr><tr><td>ey uma</td><td>9:02:20.76</td><td>+49:49:09.28</td></tr><tr><td>fk peg</td><td>21:26:32.92</td><td>+10:48:54.92</td></tr><tr><td>hat p 23</td><td>20:24:29.73</td><td>+16:45:43.81</td></tr><tr><td>hat p 32 b</td><td>2:04:10.28</td><td>+46:41:16.20</td></tr><tr><td>hr7308</td><td>19:15:59.49</td><td>+27:55:34.71</td></tr><tr><td>...</td><td>...</td><td>...</td></tr><tr><td>sz lyn</td><td>8:09:35.75</td><td>+44:28:17.59</td></tr><tr><td>tres-3b</td><td>17:52:07.02</td><td>+37:32:46.22</td></tr><tr><td>ugc9379</td><td>14:33:58.66</td><td>+40:14:40.27</td></tr><tr><td>v0440 lac</td><td>22:55:25.37</td><td>+52:17:09.21</td></tr><tr><td>v0552 cas</td><td>1:05:18.69</td><td>+63:21:24.60</td></tr><tr><td>v0556 cas</td><td>1:23:51.77</td><td>+62:31:20.10</td></tr><tr><td>v0566 cas</td><td>23:48:50.17</td><td>+62:12:52.27</td></tr><tr><td>v381 per</td><td>4:10:30.72</td><td>+32:56:17.89</td></tr><tr><td>vx her</td><td>16:30:40.80</td><td>+18:22:00.57</td></tr><tr><td>wasp 10 b</td><td>23:15:58.30</td><td>+31:27:46.29</td></tr><tr><td>xx cyg</td><td>20:03:15.65</td><td>+58:57:16.54</td></tr></table>"
       ],
       "metadata": {},
       "output_type": "pyout",
       "prompt_number": 119,
       "text": [
        "<Table rows=55 names=('object','ra','dec')>\n",
        "array([('bh aur', u'5:12:04.27', u'+33:57:46.94'),\n",
        "       ('corot 11b', u'18:42:44.95', u'+5:56:15.72'),\n",
        "       ('ee lyn', u'8:14:50.31', u'+48:49:16.17'),\n",
        "       ('el dra', u'15:21:59.86', u'+61:12:40.51'),\n",
        "       ('en cep', u'0:24:41.27', u'+83:26:18.51'),\n",
        "       ('er ori', u'5:11:14.51', u'-8:33:24.72'),\n",
        "       ('ey uma', u'9:02:20.76', u'+49:49:09.28'),\n",
        "       ('fk peg', u'21:26:32.92', u'+10:48:54.92'),\n",
        "       ('hat p 23', u'20:24:29.73', u'+16:45:43.81'),\n",
        "       ('hat p 32 b', u'2:04:10.28', u'+46:41:16.20'),\n",
        "       ('hr7308', u'19:15:59.49', u'+27:55:34.71'),\n",
        "       ('ht vul', u'20:03:54.70', u'+22:36:54.02'),\n",
        "       ('kelt-1b', u'0:01:26.92', u'+39:23:01.68'),\n",
        "       ('ku dra', u'13:01:53.67', u'+65:54:07.30'),\n",
        "       ('kz uma', u'9:31:42.13', u'+66:51:19.28'),\n",
        "       ('m101', u'14:03:12.58', u'+54:20:55.50'),\n",
        "       ('m106', u'12:18:57.62', u'+47:18:13.38'),\n",
        "       ('m34', u'2:42:04.99', u'+42:45:42.11'),\n",
        "       ('m44', u'8:40:24.00', u'+19:40:00.10'),\n",
        "       ('m51', u'13:29:52.70', u'+47:11:42.93'),\n",
        "       ('m52', u'23:24:48.00', u'+61:35:35.89'),\n",
        "       ('m57', u'18:53:35.08', u'+33:01:45.05'),\n",
        "       ('m65', u'11:18:55.96', u'+13:05:31.95'),\n",
        "       ('m81', u'9:55:33.17', u'+69:03:55.04'),\n",
        "       ('m92', u'17:17:07.39', u'+43:08:09.42'),\n",
        "       ('m95', u'10:43:57.73', u'+11:42:12.98'),\n",
        "       ('mu vul', u'20:02:34.26', u'+22:58:06.50'),\n",
        "       ('my aql', u'19:43:51.48', u'+12:07:35.22'),\n",
        "       ('ngc 5907', u'15:15:53.69', u'+56:19:43.87'),\n",
        "       ('ngc 6946', u'20:34:52.33', u'+60:09:13.26'),\n",
        "       ('ngc891', u'2:22:32.91', u'+42:20:53.95'),\n",
        "       ('nsv 4863', u'10:29:43.10', u'+78:38:39.10'),\n",
        "       ('orion nebula', u'5:35:17.30', u'-5:23:28.01'),\n",
        "       ('pleiades', u'3:47:00.00', u'+24:07:00.11'),\n",
        "       ('qq dra', u'15:16:46.67', u'+61:44:56.41'),\n",
        "       ('rx for', u'3:11:13.21', u'-26:28:58.84'),\n",
        "       ('sa 92', u'0:55:03.80', u'+0:47:13.20'),\n",
        "       ('sa104', u'12:42:53.51', u'-0:32:00.90'),\n",
        "       ('sa110', u'18:45:00.00', u'+0:36:00.02'),\n",
        "       ('sa111', u'19:37:49.70', u'+0:21:35.00'),\n",
        "       ('sa113', u'21:40:58.90', u'+0:27:43.00'),\n",
        "       ('sa95', u'3:53:21.00', u'-0:01:10.00'),\n",
        "       ('sa98', u'6:52:04.10', u'-0:23:58.01'),\n",
        "       ('sw lac', u'22:53:41.66', u'+37:56:18.65'),\n",
        "       ('sz lyn', u'8:09:35.75', u'+44:28:17.59'),\n",
        "       ('tres-3b', u'17:52:07.02', u'+37:32:46.22'),\n",
        "       ('ugc9379', u'14:33:58.66', u'+40:14:40.27'),\n",
        "       ('v0440 lac', u'22:55:25.37', u'+52:17:09.21'),\n",
        "       ('v0552 cas', u'1:05:18.69', u'+63:21:24.60'),\n",
        "       ('v0556 cas', u'1:23:51.77', u'+62:31:20.10'),\n",
        "       ('v0566 cas', u'23:48:50.17', u'+62:12:52.27'),\n",
        "       ('v381 per', u'4:10:30.72', u'+32:56:17.89'),\n",
        "       ('vx her', u'16:30:40.80', u'+18:22:00.57'),\n",
        "       ('wasp 10 b', u'23:15:58.30', u'+31:27:46.29'),\n",
        "       ('xx cyg', u'20:03:15.65', u'+58:57:16.54')], \n",
        "      dtype=[('object', 'S12'), ('ra', '<U11'), ('dec', '<U12')])"
       ]
      }
     ],
     "prompt_number": 119
    },
    {
     "cell_type": "code",
     "collapsed": false,
     "input": [
      "object_table_final.write('feder_object_list.csv', format='ascii', delimiter=',')"
     ],
     "language": "python",
     "metadata": {},
     "outputs": [],
     "prompt_number": 120
    },
    {
     "cell_type": "code",
     "collapsed": false,
     "input": [
      "len(object_table_final)"
     ],
     "language": "python",
     "metadata": {},
     "outputs": [
      {
       "metadata": {},
       "output_type": "pyout",
       "prompt_number": 121,
       "text": [
        "55"
       ]
      }
     ],
     "prompt_number": 121
    },
    {
     "cell_type": "code",
     "collapsed": false,
     "input": [],
     "language": "python",
     "metadata": {},
     "outputs": []
    }
   ],
   "metadata": {}
  }
 ]
}