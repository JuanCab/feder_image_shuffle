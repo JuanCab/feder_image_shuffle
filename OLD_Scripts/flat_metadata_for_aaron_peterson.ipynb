{
 "metadata": {
  "name": ""
 },
 "nbformat": 3,
 "nbformat_minor": 0,
 "worksheets": [
  {
   "cells": [
    {
     "cell_type": "code",
     "collapsed": false,
     "input": [
      "import numpy as np\n",
      "from astropy.table import Table\n",
      "import re"
     ],
     "language": "python",
     "metadata": {},
     "outputs": [],
     "prompt_number": 19
    },
    {
     "cell_type": "code",
     "collapsed": false,
     "input": [
      "dat = Table.read('post_process_all.txt', format='ascii')"
     ],
     "language": "python",
     "metadata": {},
     "outputs": [],
     "prompt_number": 2
    },
    {
     "cell_type": "code",
     "collapsed": false,
     "input": [
      "dat[0:10]"
     ],
     "language": "python",
     "metadata": {},
     "outputs": [
      {
       "html": [
        "<table><tr><th>file</th><th>airmass</th><th>...</th><th>exptime</th><th>File location</th></tr><tr><td>CCD Image 100.fit</td><td>--</td><td>...</td><td>20.0</td><td>triage_post_process/2011-02-09</td></tr><tr><td>CCD Image 101.fit</td><td>--</td><td>...</td><td>60.0</td><td>triage_post_process/2011-02-09</td></tr><tr><td>CCD Image 102.fit</td><td>--</td><td>...</td><td>60.0</td><td>triage_post_process/2011-02-09</td></tr><tr><td>CCD Image 103.fit</td><td>--</td><td>...</td><td>60.0</td><td>triage_post_process/2011-02-09</td></tr><tr><td>CCD Image 104.fit</td><td>--</td><td>...</td><td>60.0</td><td>triage_post_process/2011-02-09</td></tr><tr><td>CCD Image 20.fit</td><td>--</td><td>...</td><td>20.0</td><td>triage_post_process/2011-02-09</td></tr><tr><td>CCD Image 21.fit</td><td>--</td><td>...</td><td>20.0</td><td>triage_post_process/2011-02-09</td></tr><tr><td>CCD Image 22.fit</td><td>--</td><td>...</td><td>20.0</td><td>triage_post_process/2011-02-09</td></tr><tr><td>CCD Image 23.fit</td><td>--</td><td>...</td><td>40.0</td><td>triage_post_process/2011-02-09</td></tr><tr><td>CCD Image 24.fit</td><td>--</td><td>...</td><td>120.0</td><td>triage_post_process/2011-02-09</td></tr></table>"
       ],
       "metadata": {},
       "output_type": "pyout",
       "prompt_number": 3,
       "text": [
        "<Table rows=10 names=('file','airmass','observer','instrume','ccd-temp','object','imagetyp','filter','DATE-OBS','RA','JD','Dec','exptime','File location')>\n",
        "array([ ('CCD Image 100.fit', '--', 'Linda Winkler', 'Apogee Alta', '-24.69781275', '--', 'DARK', '--', '2011-02-10T05:33:14', '--', '--', '--', '20.0', 'triage_post_process/2011-02-09'),\n",
        "       ('CCD Image 101.fit', '--', 'Linda Winkler', 'Apogee Alta', '-24.74053725', '--', 'DARK', '--', '2011-02-10T05:34:09', '--', '--', '--', '60.0', 'triage_post_process/2011-02-09'),\n",
        "       ('CCD Image 102.fit', '--', 'Linda Winkler', 'Apogee Alta', '-24.8473485', '--', 'LIGHT', '--', '2011-02-10T05:35:29', '--', '--', '--', '60.0', 'triage_post_process/2011-02-09'),\n",
        "       ('CCD Image 103.fit', '--', 'Linda Winkler', 'Apogee Alta', '-24.7008645', '--', 'LIGHT', '--', '2011-02-10T05:36:52', '--', '--', '--', '60.0', 'triage_post_process/2011-02-09'),\n",
        "       ('CCD Image 104.fit', '--', 'Linda Winkler', 'Apogee Alta', '-24.499449', '--', 'LIGHT', '--', '2011-02-10T05:38:17', '--', '--', '--', '60.0', 'triage_post_process/2011-02-09'),\n",
        "       ('CCD Image 20.fit', '--', 'Linda Winkler', 'Apogee Alta', '-24.83208975', '--', 'LIGHT', '--', '2011-02-10T02:16:41', '--', '--', '--', '20.0', 'triage_post_process/2011-02-09'),\n",
        "       ('CCD Image 21.fit', '--', 'Linda Winkler', 'Apogee Alta', '-24.69170925', '--', 'LIGHT', '--', '2011-02-10T02:17:33', '--', '--', '--', '20.0', 'triage_post_process/2011-02-09'),\n",
        "       ('CCD Image 22.fit', '--', 'Linda Winkler', 'Apogee Alta', '-24.584898', '--', 'LIGHT', '--', '2011-02-10T02:18:25', '--', '--', '--', '20.0', 'triage_post_process/2011-02-09'),\n",
        "       ('CCD Image 23.fit', '--', 'Linda Winkler', 'Apogee Alta', '-24.55132875', '--', 'LIGHT', '--', '2011-02-10T02:19:24', '--', '--', '--', '40.0', 'triage_post_process/2011-02-09'),\n",
        "       ('CCD Image 24.fit', '--', 'Linda Winkler', 'Apogee Alta', '-24.67339875', '--', 'LIGHT', '--', '2011-02-10T02:21:08', '--', '--', '--', '120.0', 'triage_post_process/2011-02-09')], \n",
        "      dtype=[('file', 'S57'), ('airmass', 'S5'), ('observer', 'S72'), ('instrume', 'S14'), ('ccd-temp', 'S15'), ('object', 'S10'), ('imagetyp', 'S5'), ('filter', 'S4'), ('DATE-OBS', 'S23'), ('RA', 'S8'), ('JD', 'S2'), ('Dec', 'S9'), ('exptime', 'S5'), ('File location', 'S53')])"
       ]
      }
     ],
     "prompt_number": 3
    },
    {
     "cell_type": "code",
     "collapsed": false,
     "input": [],
     "language": "python",
     "metadata": {},
     "outputs": [],
     "prompt_number": 5
    },
    {
     "cell_type": "code",
     "collapsed": false,
     "input": [
      "def get_date(loc):\n",
      "    date_re = re.compile(r'.*/(\\d\\d\\d\\d-\\d\\d-\\d\\d)')\n",
      "    return date_re.match(loc).groups()[0]"
     ],
     "language": "python",
     "metadata": {},
     "outputs": [],
     "prompt_number": 13
    },
    {
     "cell_type": "code",
     "collapsed": false,
     "input": [
      "dates = np.array([get_date(date) for date in dat['File location']])"
     ],
     "language": "python",
     "metadata": {},
     "outputs": [],
     "prompt_number": 20
    },
    {
     "cell_type": "code",
     "collapsed": false,
     "input": [
      "keeps = (dates == '2012-08-20') | (dates ==  '2012-09-29') | (dates == '2013-04-26')"
     ],
     "language": "python",
     "metadata": {},
     "outputs": [],
     "prompt_number": 21
    },
    {
     "cell_type": "code",
     "collapsed": false,
     "input": [
      "for_aaron = dat[keeps]"
     ],
     "language": "python",
     "metadata": {},
     "outputs": [],
     "prompt_number": 23
    },
    {
     "cell_type": "code",
     "collapsed": false,
     "input": [
      "for_aaron.write('aaron_meta_data.txt', format='ascii')"
     ],
     "language": "python",
     "metadata": {},
     "outputs": [],
     "prompt_number": 24
    },
    {
     "cell_type": "code",
     "collapsed": false,
     "input": [],
     "language": "python",
     "metadata": {},
     "outputs": []
    }
   ],
   "metadata": {}
  }
 ]
}