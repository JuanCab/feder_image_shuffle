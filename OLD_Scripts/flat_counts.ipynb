{
 "metadata": {
  "name": ""
 },
 "nbformat": 3,
 "nbformat_minor": 0,
 "worksheets": [
  {
   "cells": [
    {
     "cell_type": "code",
     "collapsed": false,
     "input": [
      "%pylab inline\n",
      "\n",
      "from astropy.table import Table, Column"
     ],
     "language": "python",
     "metadata": {},
     "outputs": [
      {
       "output_type": "stream",
       "stream": "stdout",
       "text": [
        "Populating the interactive namespace from numpy and matplotlib\n"
       ]
      }
     ],
     "prompt_number": 19
    },
    {
     "cell_type": "code",
     "collapsed": false,
     "input": [
      "dat = Table.read('post_process_all.txt', format='ascii')"
     ],
     "language": "python",
     "metadata": {},
     "outputs": [],
     "prompt_number": 6
    },
    {
     "cell_type": "code",
     "collapsed": false,
     "input": [
      "flats = dat[dat['imagetyp'] == 'FLAT']\n",
      "len(flats)"
     ],
     "language": "python",
     "metadata": {},
     "outputs": [
      {
       "metadata": {},
       "output_type": "pyout",
       "prompt_number": 16,
       "text": [
        "3322"
       ]
      }
     ],
     "prompt_number": 16
    },
    {
     "cell_type": "code",
     "collapsed": false,
     "input": [
      "nights = list(set(flats['File location']))\n",
      "nights.sort()"
     ],
     "language": "python",
     "metadata": {},
     "outputs": [],
     "prompt_number": 10
    },
    {
     "cell_type": "code",
     "collapsed": false,
     "input": [
      "flat_count = []\n",
      "for night in nights:\n",
      "    n_flats = (flats['File location'] == night).sum()\n",
      "    flat_count.append(n_flats)"
     ],
     "language": "python",
     "metadata": {},
     "outputs": [],
     "prompt_number": 17
    },
    {
     "cell_type": "code",
     "collapsed": false,
     "input": [
      "print flat_count"
     ],
     "language": "python",
     "metadata": {},
     "outputs": [
      {
       "output_type": "stream",
       "stream": "stdout",
       "text": [
        "[9, 28, 1, 61, 10, 32, 50, 16, 34, 40, 40, 50, 10, 20, 50, 36, 40, 50, 40, 17, 45, 36, 31, 98, 20, 40, 40, 45, 40, 40, 20, 40, 40, 80, 50, 152, 30, 40, 32, 10, 39, 10, 40, 15, 40, 40, 52, 40, 40, 40, 9, 122, 73, 70, 86, 80, 33, 20, 9, 120, 40, 40, 40, 10, 10, 30, 40, 85, 40, 40, 10, 53, 50, 10, 10, 50, 43, 10, 10, 40, 10, 40, 10, 20, 40]\n"
       ]
      }
     ],
     "prompt_number": 18
    },
    {
     "cell_type": "code",
     "collapsed": false,
     "input": [
      "fc = Table()\n",
      "fc.add_column(Column(name='night', data=nights))\n",
      "fc.add_column(Column(name='n_flats', data=flat_count))"
     ],
     "language": "python",
     "metadata": {},
     "outputs": [],
     "prompt_number": 20
    },
    {
     "cell_type": "code",
     "collapsed": false,
     "input": [
      "fc[fc['n_flats'] > 40]"
     ],
     "language": "python",
     "metadata": {},
     "outputs": [
      {
       "html": [
        "<table><tr><th>night</th><th>n_flats</th></tr><tr><td>triage_post_process/2011-03-26/calibration</td><td>61</td></tr><tr><td>triage_post_process/2011-07-21</td><td>50</td></tr><tr><td>triage_post_process/2011-09-06</td><td>50</td></tr><tr><td>triage_post_process/2011-09-10</td><td>50</td></tr><tr><td>triage_post_process/2011-09-22</td><td>50</td></tr><tr><td>triage_post_process/2011-09-27</td><td>45</td></tr><tr><td>triage_post_process/2011-10-16</td><td>98</td></tr><tr><td>triage_post_process/2011-11-08</td><td>45</td></tr><tr><td>triage_post_process/2011-12-05</td><td>80</td></tr><tr><td>triage_post_process/2011-12-19</td><td>50</td></tr><tr><td>triage_post_process/2012-01-23</td><td>152</td></tr><tr><td>triage_post_process/2012-04-03</td><td>52</td></tr><tr><td>triage_post_process/2012-07-30</td><td>122</td></tr><tr><td>triage_post_process/2012-08-10</td><td>73</td></tr><tr><td>triage_post_process/2012-08-16</td><td>70</td></tr><tr><td>triage_post_process/2012-08-20</td><td>86</td></tr><tr><td>triage_post_process/2012-08-25</td><td>80</td></tr><tr><td>triage_post_process/2012-09-29</td><td>120</td></tr><tr><td>triage_post_process/2013-04-26</td><td>85</td></tr><tr><td>triage_post_process/2013-05-23</td><td>53</td></tr><tr><td>triage_post_process/2013-07-03</td><td>50</td></tr><tr><td>triage_post_process/2013-08-13</td><td>50</td></tr><tr><td>triage_post_process/2013-08-16</td><td>43</td></tr></table>"
       ],
       "metadata": {},
       "output_type": "pyout",
       "prompt_number": 23,
       "text": [
        "<Table rows=23 names=('night','n_flats')>\n",
        "array([('triage_post_process/2011-03-26/calibration', 61),\n",
        "       ('triage_post_process/2011-07-21', 50),\n",
        "       ('triage_post_process/2011-09-06', 50),\n",
        "       ('triage_post_process/2011-09-10', 50),\n",
        "       ('triage_post_process/2011-09-22', 50),\n",
        "       ('triage_post_process/2011-09-27', 45),\n",
        "       ('triage_post_process/2011-10-16', 98),\n",
        "       ('triage_post_process/2011-11-08', 45),\n",
        "       ('triage_post_process/2011-12-05', 80),\n",
        "       ('triage_post_process/2011-12-19', 50),\n",
        "       ('triage_post_process/2012-01-23', 152),\n",
        "       ('triage_post_process/2012-04-03', 52),\n",
        "       ('triage_post_process/2012-07-30', 122),\n",
        "       ('triage_post_process/2012-08-10', 73),\n",
        "       ('triage_post_process/2012-08-16', 70),\n",
        "       ('triage_post_process/2012-08-20', 86),\n",
        "       ('triage_post_process/2012-08-25', 80),\n",
        "       ('triage_post_process/2012-09-29', 120),\n",
        "       ('triage_post_process/2013-04-26', 85),\n",
        "       ('triage_post_process/2013-05-23', 53),\n",
        "       ('triage_post_process/2013-07-03', 50),\n",
        "       ('triage_post_process/2013-08-13', 50),\n",
        "       ('triage_post_process/2013-08-16', 43)], \n",
        "      dtype=[('night', 'S50'), ('n_flats', '<i8')])"
       ]
      }
     ],
     "prompt_number": 23
    },
    {
     "cell_type": "code",
     "collapsed": false,
     "input": [],
     "language": "python",
     "metadata": {},
     "outputs": []
    }
   ],
   "metadata": {}
  }
 ]
}