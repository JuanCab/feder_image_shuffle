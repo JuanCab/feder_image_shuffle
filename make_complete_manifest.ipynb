{
 "metadata": {
  "name": ""
 },
 "nbformat": 3,
 "nbformat_minor": 0,
 "worksheets": [
  {
   "cells": [
    {
     "cell_type": "code",
     "collapsed": false,
     "input": [
      "from build_overall_manifest import InfoTree\n",
      "from astropy.table import Table\n",
      "import os\n",
      "import shutil"
     ],
     "language": "python",
     "metadata": {},
     "outputs": [],
     "prompt_number": 1
    },
    {
     "cell_type": "code",
     "collapsed": false,
     "input": [
      "table = InfoTree('triage_post_process')"
     ],
     "language": "python",
     "metadata": {},
     "outputs": [],
     "prompt_number": 2
    },
    {
     "cell_type": "code",
     "collapsed": false,
     "input": [
      "foop = Table(table)\n",
      "foop.colnames"
     ],
     "language": "python",
     "metadata": {},
     "outputs": [
      {
       "metadata": {},
       "output_type": "pyout",
       "prompt_number": 3,
       "text": [
        "['file',\n",
        " 'airmass',\n",
        " 'observer',\n",
        " 'instrume',\n",
        " 'ccd-temp',\n",
        " 'object',\n",
        " 'imagetyp',\n",
        " 'filter',\n",
        " 'DATE-OBS',\n",
        " 'RA',\n",
        " 'JD',\n",
        " 'Dec',\n",
        " 'exptime',\n",
        " 'File location']"
       ]
      }
     ],
     "prompt_number": 3
    },
    {
     "cell_type": "code",
     "collapsed": false,
     "input": [
      "foop.write('post_process_all.txt', format='ascii', delimiter='\\t')\n"
     ],
     "language": "python",
     "metadata": {},
     "outputs": [],
     "prompt_number": 5
    },
    {
     "cell_type": "code",
     "collapsed": false,
     "input": [
      "len(table)"
     ],
     "language": "python",
     "metadata": {},
     "outputs": [
      {
       "metadata": {},
       "output_type": "pyout",
       "prompt_number": 5,
       "text": [
        "22854"
       ]
      }
     ],
     "prompt_number": 5
    },
    {
     "cell_type": "code",
     "collapsed": false,
     "input": [
      " ey_umas = table['object'] == 'ey uma'"
     ],
     "language": "python",
     "metadata": {},
     "outputs": [],
     "prompt_number": 6
    },
    {
     "cell_type": "code",
     "collapsed": false,
     "input": [
      "ey_uma_nights = set(table['File location'][ey_umas])\n",
      "print ey_uma_nights"
     ],
     "language": "python",
     "metadata": {},
     "outputs": [
      {
       "output_type": "stream",
       "stream": "stdout",
       "text": [
        "set(['triage_post_process/2012-03-21', 'triage_post_process/2012-02-10', 'triage_post_process/2012-02-12', 'triage_post_process/2012-11-15', 'triage_post_process/2013-03-10', 'triage_post_process/2012-12-09', 'triage_post_process/2013-04-13', 'triage_post_process/2013-05-09', 'triage_post_process/2013-04-19', 'triage_post_process/2013-10-15', 'triage_post_process/2012-02-08', 'triage_post_process/2012-04-03', 'triage_post_process/2013-04-19/BAD_TIMES', 'triage_post_process/2012-02-07', 'triage_post_process/2012-04-04', 'triage_post_process/2012-02-05', 'triage_post_process/2013-09-16', 'triage_post_process/2013-09-11', 'triage_post_process/2013-09-12', 'triage_post_process/2012-03-10', 'triage_post_process/2012-03-12', 'triage_post_process/2012-09-29', 'triage_post_process/2013-04-28', 'triage_post_process/2013-11-11', 'triage_post_process/2013-11-12', 'triage_post_process/2013-01-09'])\n"
       ]
      }
     ],
     "prompt_number": 8
    },
    {
     "cell_type": "code",
     "collapsed": false,
     "input": [
      "src = '/Volumes/feder_data_originals/processed/'\n",
      "dest = '/Volumes/Macintosh HD/Users/mcraig/Documents/Data/feder-images/fixed_headers/ey_uma'\n",
      "for night in ey_uma_nights:\n",
      "    base = night.split('/')[1]\n",
      "    full_source = os.path.join(src, base)\n",
      "    full_dest = os.path.join(dest, base)\n",
      "    try:\n",
      "        shutil.copytree(full_source, full_dest)\n",
      "        print \"On directory {}\".format(night)\n",
      "    except OSError:\n",
      "        print \"Passed on {}\".format(night)"
     ],
     "language": "python",
     "metadata": {},
     "outputs": [
      {
       "output_type": "stream",
       "stream": "stdout",
       "text": [
        "Passed on triage_post_process/2012-03-21\n",
        "Passed on triage_post_process/2012-02-10\n",
        "Passed on triage_post_process/2012-02-12\n",
        "Passed on triage_post_process/2012-11-15"
       ]
      },
      {
       "output_type": "stream",
       "stream": "stdout",
       "text": [
        "\n",
        "Passed on triage_post_process/2013-03-10\n",
        "Passed on triage_post_process/2012-12-09"
       ]
      },
      {
       "output_type": "stream",
       "stream": "stdout",
       "text": [
        "\n",
        "Passed on triage_post_process/2013-04-13\n",
        "Passed on triage_post_process/2013-05-09"
       ]
      },
      {
       "output_type": "stream",
       "stream": "stdout",
       "text": [
        "\n",
        "Passed on triage_post_process/2013-04-19\n",
        "Passed on triage_post_process/2013-10-15\n",
        "Passed on triage_post_process/2012-02-08"
       ]
      },
      {
       "output_type": "stream",
       "stream": "stdout",
       "text": [
        "\n",
        "Passed on triage_post_process/2012-04-03\n",
        "Passed on triage_post_process/2013-04-19/BAD_TIMES\n",
        "Passed on triage_post_process/2012-02-07"
       ]
      },
      {
       "output_type": "stream",
       "stream": "stdout",
       "text": [
        "\n",
        "Passed on triage_post_process/2012-04-04\n",
        "Passed on triage_post_process/2012-02-05"
       ]
      },
      {
       "output_type": "stream",
       "stream": "stdout",
       "text": [
        "\n",
        "Passed on triage_post_process/2013-09-16\n",
        "Passed on triage_post_process/2013-09-11"
       ]
      },
      {
       "output_type": "stream",
       "stream": "stdout",
       "text": [
        "\n",
        "Passed on triage_post_process/2013-09-12\n",
        "Passed on triage_post_process/2012-03-10"
       ]
      },
      {
       "output_type": "stream",
       "stream": "stdout",
       "text": [
        "\n",
        "Passed on triage_post_process/2012-03-12\n",
        "Passed on triage_post_process/2012-09-29"
       ]
      },
      {
       "output_type": "stream",
       "stream": "stdout",
       "text": [
        "\n",
        "Passed on triage_post_process/2013-04-28\n",
        "On directory triage_post_process/2013-11-11"
       ]
      },
      {
       "output_type": "stream",
       "stream": "stdout",
       "text": [
        "\n",
        "On directory triage_post_process/2013-11-12"
       ]
      },
      {
       "output_type": "stream",
       "stream": "stdout",
       "text": [
        "\n",
        "On directory triage_post_process/2013-01-09"
       ]
      },
      {
       "output_type": "stream",
       "stream": "stdout",
       "text": [
        "\n"
       ]
      }
     ],
     "prompt_number": 16
    },
    {
     "cell_type": "code",
     "collapsed": false,
     "input": [
      "for night in ey_uma_nights:\n",
      "    print night\n",
      "    "
     ],
     "language": "python",
     "metadata": {},
     "outputs": [
      {
       "output_type": "stream",
       "stream": "stdout",
       "text": [
        "triage_post_process/2012-03-21\n",
        "triage_post_process/2012-02-10\n",
        "triage_post_process/2012-02-12\n",
        "triage_post_process/2012-11-15\n",
        "triage_post_process/2013-03-10\n",
        "triage_post_process/2012-12-09\n",
        "triage_post_process/2013-04-13\n",
        "triage_post_process/2013-05-09\n",
        "triage_post_process/2013-04-19\n",
        "triage_post_process/2013-10-15\n",
        "triage_post_process/2012-02-08\n",
        "triage_post_process/2012-04-03\n",
        "triage_post_process/2013-04-19/BAD_TIMES\n",
        "triage_post_process/2012-02-07\n",
        "triage_post_process/2012-04-04\n",
        "triage_post_process/2012-02-05\n",
        "triage_post_process/2013-09-16\n",
        "triage_post_process/2013-09-11\n",
        "triage_post_process/2013-09-12\n",
        "triage_post_process/2012-03-10\n",
        "triage_post_process/2012-03-12\n",
        "triage_post_process/2012-09-29\n",
        "triage_post_process/2013-04-28\n",
        "triage_post_process/2013-11-11\n",
        "triage_post_process/2013-11-12\n",
        "triage_post_process/2013-01-09\n"
       ]
      }
     ],
     "prompt_number": 14
    },
    {
     "cell_type": "code",
     "collapsed": false,
     "input": [],
     "language": "python",
     "metadata": {},
     "outputs": []
    }
   ],
   "metadata": {}
  }
 ]
}